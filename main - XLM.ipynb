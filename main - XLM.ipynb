{
 "cells": [
  {
   "cell_type": "code",
   "execution_count": 1,
   "metadata": {},
   "outputs": [],
   "source": [
    "import torch\n",
    "from torch.utils.data import TensorDataset, DataLoader, RandomSampler, SequentialSampler"
   ]
  },
  {
   "cell_type": "code",
   "execution_count": 2,
   "metadata": {},
   "outputs": [
    {
     "name": "stdout",
     "output_type": "stream",
     "text": [
      "There are 1 GPU(s) available.\n",
      "GPU is: NVIDIA GeForce RTX 4080 Laptop GPU\n"
     ]
    }
   ],
   "source": [
    "# check if we have cuda installed\n",
    "if torch.cuda.is_available():\n",
    "    # to use GPU\n",
    "    device = torch.device(\"cuda\")\n",
    "    print('There are %d GPU(s) available.' % torch.cuda.device_count())\n",
    "    print('GPU is:', torch.cuda.get_device_name(0))\n",
    "else:\n",
    "    print('No GPU available, using the CPU instead.')\n",
    "    device = torch.device(\"cpu\")"
   ]
  },
  {
   "cell_type": "code",
   "execution_count": 3,
   "metadata": {},
   "outputs": [
    {
     "data": {
      "text/html": [
       "<div>\n",
       "<style scoped>\n",
       "    .dataframe tbody tr th:only-of-type {\n",
       "        vertical-align: middle;\n",
       "    }\n",
       "\n",
       "    .dataframe tbody tr th {\n",
       "        vertical-align: top;\n",
       "    }\n",
       "\n",
       "    .dataframe thead th {\n",
       "        text-align: right;\n",
       "    }\n",
       "</style>\n",
       "<table border=\"1\" class=\"dataframe\">\n",
       "  <thead>\n",
       "    <tr style=\"text-align: right;\">\n",
       "      <th></th>\n",
       "      <th>UserName</th>\n",
       "      <th>ScreenName</th>\n",
       "      <th>Location</th>\n",
       "      <th>TweetAt</th>\n",
       "      <th>OriginalTweet</th>\n",
       "      <th>Sentiment</th>\n",
       "    </tr>\n",
       "  </thead>\n",
       "  <tbody>\n",
       "    <tr>\n",
       "      <th>0</th>\n",
       "      <td>3799</td>\n",
       "      <td>48751</td>\n",
       "      <td>London</td>\n",
       "      <td>16-03-2020</td>\n",
       "      <td>@MeNyrbie @Phil_Gahan @Chrisitv https://t.co/i...</td>\n",
       "      <td>Neutral</td>\n",
       "    </tr>\n",
       "    <tr>\n",
       "      <th>1</th>\n",
       "      <td>3800</td>\n",
       "      <td>48752</td>\n",
       "      <td>UK</td>\n",
       "      <td>16-03-2020</td>\n",
       "      <td>advice Talk to your neighbours family to excha...</td>\n",
       "      <td>Positive</td>\n",
       "    </tr>\n",
       "    <tr>\n",
       "      <th>2</th>\n",
       "      <td>3801</td>\n",
       "      <td>48753</td>\n",
       "      <td>Vagabonds</td>\n",
       "      <td>16-03-2020</td>\n",
       "      <td>Coronavirus Australia: Woolworths to give elde...</td>\n",
       "      <td>Positive</td>\n",
       "    </tr>\n",
       "    <tr>\n",
       "      <th>3</th>\n",
       "      <td>3802</td>\n",
       "      <td>48754</td>\n",
       "      <td>NaN</td>\n",
       "      <td>16-03-2020</td>\n",
       "      <td>My food stock is not the only one which is emp...</td>\n",
       "      <td>Positive</td>\n",
       "    </tr>\n",
       "    <tr>\n",
       "      <th>4</th>\n",
       "      <td>3803</td>\n",
       "      <td>48755</td>\n",
       "      <td>NaN</td>\n",
       "      <td>16-03-2020</td>\n",
       "      <td>Me, ready to go at supermarket during the #COV...</td>\n",
       "      <td>Extremely Negative</td>\n",
       "    </tr>\n",
       "  </tbody>\n",
       "</table>\n",
       "</div>"
      ],
      "text/plain": [
       "   UserName  ScreenName   Location     TweetAt  \\\n",
       "0      3799       48751     London  16-03-2020   \n",
       "1      3800       48752         UK  16-03-2020   \n",
       "2      3801       48753  Vagabonds  16-03-2020   \n",
       "3      3802       48754        NaN  16-03-2020   \n",
       "4      3803       48755        NaN  16-03-2020   \n",
       "\n",
       "                                       OriginalTweet           Sentiment  \n",
       "0  @MeNyrbie @Phil_Gahan @Chrisitv https://t.co/i...             Neutral  \n",
       "1  advice Talk to your neighbours family to excha...            Positive  \n",
       "2  Coronavirus Australia: Woolworths to give elde...            Positive  \n",
       "3  My food stock is not the only one which is emp...            Positive  \n",
       "4  Me, ready to go at supermarket during the #COV...  Extremely Negative  "
      ]
     },
     "execution_count": 3,
     "metadata": {},
     "output_type": "execute_result"
    }
   ],
   "source": [
    "import pandas as pd\n",
    "df = pd.read_csv('data/Corona_NLP_train.csv', encoding='ISO-8859-1')\n",
    "df.head()"
   ]
  },
  {
   "cell_type": "code",
   "execution_count": 4,
   "metadata": {},
   "outputs": [],
   "source": [
    "import spacy\n",
    "from spacy.language import Language\n",
    "from spacy_langdetect import LanguageDetector"
   ]
  },
  {
   "cell_type": "code",
   "execution_count": 5,
   "metadata": {},
   "outputs": [
    {
     "data": {
      "text/plain": [
       "<spacy_langdetect.spacy_langdetect.LanguageDetector at 0x2271fea2a90>"
      ]
     },
     "execution_count": 5,
     "metadata": {},
     "output_type": "execute_result"
    }
   ],
   "source": [
    "def get_lang_detector(nlp, name):\n",
    "    return LanguageDetector()\n",
    "\n",
    "nlp = spacy.load(\"en_core_web_sm\")\n",
    "Language.factory(\"language_detector\", func=get_lang_detector)\n",
    "nlp.add_pipe('language_detector', last=True)"
   ]
  },
  {
   "cell_type": "code",
   "execution_count": 6,
   "metadata": {},
   "outputs": [],
   "source": [
    "def detect_lan(text) :\n",
    "    doc = nlp(text)\n",
    "    detect_language = doc._.language \n",
    "    detect_language = detect_language['language']\n",
    "    return(detect_language)"
   ]
  },
  {
   "cell_type": "code",
   "execution_count": 7,
   "metadata": {},
   "outputs": [],
   "source": [
    "df['nation'] = df['OriginalTweet'].apply(lambda x: detect_lan(x))"
   ]
  },
  {
   "cell_type": "code",
   "execution_count": 8,
   "metadata": {},
   "outputs": [
    {
     "data": {
      "text/plain": [
       "{'UNKNOWN': 14,\n",
       " 'af': 11,\n",
       " 'ca': 12,\n",
       " 'cy': 2,\n",
       " 'da': 5,\n",
       " 'de': 25,\n",
       " 'en': 40935,\n",
       " 'es': 27,\n",
       " 'et': 4,\n",
       " 'fi': 2,\n",
       " 'fr': 32,\n",
       " 'id': 17,\n",
       " 'it': 16,\n",
       " 'nl': 9,\n",
       " 'no': 14,\n",
       " 'pl': 1,\n",
       " 'pt': 4,\n",
       " 'ro': 5,\n",
       " 'sk': 2,\n",
       " 'so': 1,\n",
       " 'sv': 3,\n",
       " 'sw': 2,\n",
       " 'tl': 7,\n",
       " 'tr': 5,\n",
       " 'vi': 2}"
      ]
     },
     "execution_count": 8,
     "metadata": {},
     "output_type": "execute_result"
    }
   ],
   "source": [
    "dict(df.groupby('nation').count()['UserName'])"
   ]
  },
  {
   "cell_type": "code",
   "execution_count": 9,
   "metadata": {},
   "outputs": [
    {
     "data": {
      "text/plain": [
       "208"
      ]
     },
     "execution_count": 9,
     "metadata": {},
     "output_type": "execute_result"
    }
   ],
   "source": [
    "# total number of english samples:\n",
    "dict(df.groupby('nation').count()['UserName'])['en']\n",
    "#### 40934 \n",
    "# total number of non-english samples (exclude 'UNKNOWN')\n",
    "sum([dict(df.groupby('nation').count()['UserName'])[x] for x in dict(df.groupby('nation').count()['UserName']).keys() if x not in ['en', 'UNKNOWN']])\n",
    "##### 209"
   ]
  },
  {
   "cell_type": "code",
   "execution_count": 10,
   "metadata": {},
   "outputs": [
    {
     "data": {
      "text/html": [
       "<div>\n",
       "<style scoped>\n",
       "    .dataframe tbody tr th:only-of-type {\n",
       "        vertical-align: middle;\n",
       "    }\n",
       "\n",
       "    .dataframe tbody tr th {\n",
       "        vertical-align: top;\n",
       "    }\n",
       "\n",
       "    .dataframe thead th {\n",
       "        text-align: right;\n",
       "    }\n",
       "</style>\n",
       "<table border=\"1\" class=\"dataframe\">\n",
       "  <thead>\n",
       "    <tr style=\"text-align: right;\">\n",
       "      <th></th>\n",
       "      <th>UserName</th>\n",
       "      <th>ScreenName</th>\n",
       "      <th>Location</th>\n",
       "      <th>TweetAt</th>\n",
       "      <th>OriginalTweet</th>\n",
       "      <th>Sentiment</th>\n",
       "      <th>nation</th>\n",
       "    </tr>\n",
       "  </thead>\n",
       "  <tbody>\n",
       "    <tr>\n",
       "      <th>0</th>\n",
       "      <td>3799</td>\n",
       "      <td>48751</td>\n",
       "      <td>London</td>\n",
       "      <td>16-03-2020</td>\n",
       "      <td>@MeNyrbie @Phil_Gahan @Chrisitv https://t.co/i...</td>\n",
       "      <td>Neutral</td>\n",
       "      <td>en</td>\n",
       "    </tr>\n",
       "    <tr>\n",
       "      <th>1</th>\n",
       "      <td>3800</td>\n",
       "      <td>48752</td>\n",
       "      <td>UK</td>\n",
       "      <td>16-03-2020</td>\n",
       "      <td>advice Talk to your neighbours family to excha...</td>\n",
       "      <td>Positive</td>\n",
       "      <td>en</td>\n",
       "    </tr>\n",
       "    <tr>\n",
       "      <th>2</th>\n",
       "      <td>3801</td>\n",
       "      <td>48753</td>\n",
       "      <td>Vagabonds</td>\n",
       "      <td>16-03-2020</td>\n",
       "      <td>Coronavirus Australia: Woolworths to give elde...</td>\n",
       "      <td>Positive</td>\n",
       "      <td>en</td>\n",
       "    </tr>\n",
       "    <tr>\n",
       "      <th>3</th>\n",
       "      <td>3802</td>\n",
       "      <td>48754</td>\n",
       "      <td>NaN</td>\n",
       "      <td>16-03-2020</td>\n",
       "      <td>My food stock is not the only one which is emp...</td>\n",
       "      <td>Positive</td>\n",
       "      <td>en</td>\n",
       "    </tr>\n",
       "    <tr>\n",
       "      <th>4</th>\n",
       "      <td>3803</td>\n",
       "      <td>48755</td>\n",
       "      <td>NaN</td>\n",
       "      <td>16-03-2020</td>\n",
       "      <td>Me, ready to go at supermarket during the #COV...</td>\n",
       "      <td>Extremely Negative</td>\n",
       "      <td>en</td>\n",
       "    </tr>\n",
       "  </tbody>\n",
       "</table>\n",
       "</div>"
      ],
      "text/plain": [
       "   UserName  ScreenName   Location     TweetAt  \\\n",
       "0      3799       48751     London  16-03-2020   \n",
       "1      3800       48752         UK  16-03-2020   \n",
       "2      3801       48753  Vagabonds  16-03-2020   \n",
       "3      3802       48754        NaN  16-03-2020   \n",
       "4      3803       48755        NaN  16-03-2020   \n",
       "\n",
       "                                       OriginalTweet           Sentiment  \\\n",
       "0  @MeNyrbie @Phil_Gahan @Chrisitv https://t.co/i...             Neutral   \n",
       "1  advice Talk to your neighbours family to excha...            Positive   \n",
       "2  Coronavirus Australia: Woolworths to give elde...            Positive   \n",
       "3  My food stock is not the only one which is emp...            Positive   \n",
       "4  Me, ready to go at supermarket during the #COV...  Extremely Negative   \n",
       "\n",
       "  nation  \n",
       "0     en  \n",
       "1     en  \n",
       "2     en  \n",
       "3     en  \n",
       "4     en  "
      ]
     },
     "execution_count": 10,
     "metadata": {},
     "output_type": "execute_result"
    }
   ],
   "source": [
    "#filter the dataset to only english\n",
    "filtered_df = df[df['nation'] == 'en']\n",
    "filtered_df.to_csv('data/filtered_data.csv', index=True) # store all the en data into a new file\n",
    "filtered_df.head()"
   ]
  },
  {
   "cell_type": "code",
   "execution_count": 11,
   "metadata": {},
   "outputs": [
    {
     "data": {
      "text/plain": [
       "{'Extremely Negative': 5481,\n",
       " 'Extremely Positive': 6624,\n",
       " 'Negative': 9917,\n",
       " 'Neutral': 7713,\n",
       " 'Positive': 11422}"
      ]
     },
     "execution_count": 11,
     "metadata": {},
     "output_type": "execute_result"
    }
   ],
   "source": [
    "dict(df.groupby('Sentiment').count()['UserName'])"
   ]
  },
  {
   "cell_type": "code",
   "execution_count": 12,
   "metadata": {},
   "outputs": [],
   "source": [
    "import re\n",
    "import string\n",
    "def clean_text(text):\n",
    "    # to lower case\n",
    "    text = text.lower()\n",
    "    # remove links\n",
    "    text = re.sub('https:\\/\\/\\S+', '', text) \n",
    "    # remove punctuation\n",
    "    text = re.sub('[%s]' % re.escape(string.punctuation), '', text) \n",
    "    # remove next line     \n",
    "    text = re.sub(r'[^ \\w\\.]', '', text) \n",
    "    # remove words containing numbers\n",
    "    text = re.sub('\\w*\\d\\w*', '', text)\n",
    "    \n",
    "    return text\n",
    "# Create a new column called \"Text\" for collecting clean text\n",
    "df['Text'] = df.OriginalTweet.apply(lambda x: clean_text(x))"
   ]
  },
  {
   "cell_type": "code",
   "execution_count": 13,
   "metadata": {},
   "outputs": [
    {
     "data": {
      "text/plain": [
       "'menyrbie philgahan chrisitv  and  and '"
      ]
     },
     "execution_count": 13,
     "metadata": {},
     "output_type": "execute_result"
    }
   ],
   "source": [
    "df.Text.values[0]"
   ]
  },
  {
   "cell_type": "code",
   "execution_count": 14,
   "metadata": {},
   "outputs": [
    {
     "name": "stderr",
     "output_type": "stream",
     "text": [
      "C:\\Users\\17456\\AppData\\Local\\Packages\\PythonSoftwareFoundation.Python.3.11_qbz5n2kfra8p0\\LocalCache\\local-packages\\Python311\\site-packages\\tqdm\\auto.py:21: TqdmWarning: IProgress not found. Please update jupyter and ipywidgets. See https://ipywidgets.readthedocs.io/en/stable/user_install.html\n",
      "  from .autonotebook import tqdm as notebook_tqdm\n"
     ]
    },
    {
     "data": {
      "text/plain": [
       "2"
      ]
     },
     "execution_count": 14,
     "metadata": {},
     "output_type": "execute_result"
    }
   ],
   "source": [
    "# load tokens\n",
    "from transformers import AutoTokenizer\n",
    "tokenizer = AutoTokenizer.from_pretrained('xlm-roberta-base')\n",
    "# Add words into token \n",
    "tokenizer.add_tokens(['covid', 'coronavirus'])"
   ]
  },
  {
   "cell_type": "code",
   "execution_count": 15,
   "metadata": {},
   "outputs": [
    {
     "name": "stdout",
     "output_type": "stream",
     "text": [
      "['covid']\n",
      "['coronavirus']\n"
     ]
    }
   ],
   "source": [
    "print(tokenizer.tokenize('covid'))\n",
    "print(tokenizer.tokenize('coronavirus'))\n",
    "# ['covid']\n",
    "# ['coronavirus']"
   ]
  },
  {
   "cell_type": "code",
   "execution_count": 16,
   "metadata": {},
   "outputs": [
    {
     "name": "stdout",
     "output_type": "stream",
     "text": [
      "{'menyrbie': [24850, 30291, 13], 'philgahan': [44171, 19284, 1121], 'chrisitv': [17656, 2726, 8283], 'and': [136]}\n"
     ]
    }
   ],
   "source": [
    "# print first text\n",
    "df.Text.values[0]\n",
    "\n",
    "print({x : tokenizer.encode(x, add_special_tokens=False) for x in df.Text.values[0].split()})"
   ]
  },
  {
   "cell_type": "code",
   "execution_count": 17,
   "metadata": {},
   "outputs": [
    {
     "data": {
      "text/plain": [
       "[0, 24850, 30291, 13, 44171, 19284, 1121, 17656, 2726, 8283, 136, 136, 2]"
      ]
     },
     "execution_count": 17,
     "metadata": {},
     "output_type": "execute_result"
    }
   ],
   "source": [
    "tokenizer(df.Text.values[0])['input_ids']\n"
   ]
  },
  {
   "cell_type": "code",
   "execution_count": 18,
   "metadata": {},
   "outputs": [
    {
     "name": "stdout",
     "output_type": "stream",
     "text": [
      "max:  93\n",
      "min:  2\n"
     ]
    },
    {
     "data": {
      "text/plain": [
       "(array([    0.,  2000.,  4000.,  6000.,  8000., 10000., 12000.]),\n",
       " [Text(0, 0.0, '0'),\n",
       "  Text(0, 2000.0, '2000'),\n",
       "  Text(0, 4000.0, '4000'),\n",
       "  Text(0, 6000.0, '6000'),\n",
       "  Text(0, 8000.0, '8000'),\n",
       "  Text(0, 10000.0, '10000'),\n",
       "  Text(0, 12000.0, '12000')])"
      ]
     },
     "execution_count": 18,
     "metadata": {},
     "output_type": "execute_result"
    },
    {
     "data": {
      "image/png": "[encoded data removed]",
      "text/plain": [
       "<Figure size 2000x800 with 1 Axes>"
      ]
     },
     "metadata": {},
     "output_type": "display_data"
    }
   ],
   "source": [
    "tokenized_feature_raw = tokenizer.batch_encode_plus(\n",
    "                            # Sentences to encode\n",
    "                            df.Text.values.tolist(), \n",
    "                            # Add '[CLS]' and '[SEP]'\n",
    "                            add_special_tokens = True      \n",
    "                   )\n",
    "# collect tokenized sentence length \n",
    "token_sentence_length = [len(x) for x in tokenized_feature_raw['input_ids']]\n",
    "print('max: ', max(token_sentence_length))\n",
    "print('min: ', min(token_sentence_length))\n",
    "# plot the distribution\n",
    "import matplotlib.pyplot as plt\n",
    "plt.figure(figsize=(20, 8))\n",
    "plt.hist(token_sentence_length, rwidth = 0.9)\n",
    "plt.xlabel('Sequence Length', fontsize = 18)\n",
    "plt.ylabel('# of Samples', fontsize = 18)\n",
    "plt.xticks(fontsize = 14)\n",
    "plt.yticks(fontsize = 14)"
   ]
  },
  {
   "cell_type": "code",
   "execution_count": 19,
   "metadata": {},
   "outputs": [],
   "source": [
    "features = df.Text.values.tolist()\n",
    "target = df.Sentiment.values.tolist()"
   ]
  },
  {
   "cell_type": "code",
   "execution_count": 20,
   "metadata": {},
   "outputs": [],
   "source": [
    "# tokenize features \n",
    "MAX_LEN = 128\n",
    "tokenized_feature = tokenizer.batch_encode_plus(\n",
    "                            # Sentences to encode\n",
    "                            features, \n",
    "                            # Add '[CLS]' and '[SEP]'\n",
    "                            add_special_tokens = True,\n",
    "                            # Add empty tokens if len(text)<MAX_LEN\n",
    "                            padding = 'max_length',\n",
    "                            # Truncate all sentences to max length\n",
    "                            truncation=True,\n",
    "                            # Set the maximum length\n",
    "                            max_length = MAX_LEN, \n",
    "                            # Return attention mask\n",
    "                            return_attention_mask = True,\n",
    "                            # Return pytorch tensors\n",
    "                            return_tensors = 'pt'       \n",
    "                   )"
   ]
  },
  {
   "cell_type": "code",
   "execution_count": 21,
   "metadata": {},
   "outputs": [],
   "source": [
    "# convert label into numeric \n",
    "from sklearn.preprocessing import LabelEncoder\n",
    "le = LabelEncoder()\n",
    "le.fit(target)\n",
    "target_num = le.transform(target)"
   ]
  },
  {
   "cell_type": "code",
   "execution_count": 22,
   "metadata": {},
   "outputs": [
    {
     "data": {
      "text/plain": [
       "array([3, 4, 4, ..., 4, 3, 2])"
      ]
     },
     "execution_count": 22,
     "metadata": {},
     "output_type": "execute_result"
    }
   ],
   "source": [
    "target_num\n",
    "# output - array([3, 4, 4, ..., 4, 3, 2])"
   ]
  },
  {
   "cell_type": "code",
   "execution_count": 23,
   "metadata": {},
   "outputs": [],
   "source": [
    "# Use 80% for training and 20% for validation\n",
    "from sklearn.model_selection import train_test_split\n",
    "train_inputs, validation_inputs, train_labels, validation_labels, train_masks, validation_masks = train_test_split(tokenized_feature['input_ids'], target_num,tokenized_feature['attention_mask'],random_state=2018, test_size=0.2, stratify=target)"
   ]
  },
  {
   "cell_type": "code",
   "execution_count": 24,
   "metadata": {},
   "outputs": [],
   "source": [
    "# define batch_size\n",
    "batch_size = 32\n",
    "# Create the DataLoader for our training set\n",
    "train_data = TensorDataset(train_inputs, train_masks, torch.tensor(train_labels))\n",
    "train_sampler = RandomSampler(train_data)\n",
    "train_dataloader = DataLoader(train_data, sampler=train_sampler, batch_size=batch_size)\n",
    "# Create the DataLoader for our test set\n",
    "validation_data = TensorDataset(validation_inputs, validation_masks, torch.tensor(validation_labels))\n",
    "validation_sampler = SequentialSampler(validation_data)\n",
    "validation_dataloader = DataLoader(validation_data, sampler=validation_sampler, batch_size=batch_size)"
   ]
  },
  {
   "cell_type": "code",
   "execution_count": 25,
   "metadata": {},
   "outputs": [
    {
     "name": "stderr",
     "output_type": "stream",
     "text": [
      "Some weights of XLMRobertaForSequenceClassification were not initialized from the model checkpoint at xlm-roberta-base and are newly initialized: ['classifier.out_proj.weight', 'classifier.dense.bias', 'classifier.dense.weight', 'classifier.out_proj.bias']\n",
      "You should probably TRAIN this model on a down-stream task to be able to use it for predictions and inference.\n"
     ]
    }
   ],
   "source": [
    "# BertForSequenceClassification\n",
    "from transformers import XLMRobertaForSequenceClassification, AdamW, get_linear_schedule_with_warmup\n",
    "model = XLMRobertaForSequenceClassification.from_pretrained(\n",
    "    \"xlm-roberta-base\", \n",
    "    # Specify number of classes\n",
    "    num_labels = len(set(target)), \n",
    "    # Whether the model returns attentions weights\n",
    "    output_attentions = False,\n",
    "    # Whether the model returns all hidden-states \n",
    "    output_hidden_states = False\n",
    ")"
   ]
  },
  {
   "cell_type": "code",
   "execution_count": 26,
   "metadata": {},
   "outputs": [
    {
     "data": {
      "text/plain": [
       "Embedding(250004, 768)"
      ]
     },
     "execution_count": 26,
     "metadata": {},
     "output_type": "execute_result"
    }
   ],
   "source": [
    "# Receive the full size of the new word\n",
    "model.resize_token_embeddings(len(tokenizer))"
   ]
  },
  {
   "cell_type": "code",
   "execution_count": 27,
   "metadata": {},
   "outputs": [],
   "source": [
    "optimizer = torch.optim.AdamW(model.parameters(),\n",
    "                  lr = 2e-5, \n",
    "                  eps = 1e-8 \n",
    "                )"
   ]
  },
  {
   "cell_type": "code",
   "execution_count": 28,
   "metadata": {},
   "outputs": [],
   "source": [
    "# Number of training epochs\n",
    "epochs = 1\n",
    "# Total number of training steps is number of batches * number of epochs.\n",
    "total_steps = len(train_dataloader) * epochs\n",
    "# Create the learning rate scheduler\n",
    "scheduler = get_linear_schedule_with_warmup(optimizer,\n",
    "                                            num_warmup_steps = 0,\n",
    "                                            num_training_steps = total_steps)"
   ]
  },
  {
   "cell_type": "code",
   "execution_count": 29,
   "metadata": {},
   "outputs": [
    {
     "data": {
      "text/plain": [
       "XLMRobertaForSequenceClassification(\n",
       "  (roberta): XLMRobertaModel(\n",
       "    (embeddings): XLMRobertaEmbeddings(\n",
       "      (word_embeddings): Embedding(250004, 768)\n",
       "      (position_embeddings): Embedding(514, 768, padding_idx=1)\n",
       "      (token_type_embeddings): Embedding(1, 768)\n",
       "      (LayerNorm): LayerNorm((768,), eps=1e-05, elementwise_affine=True)\n",
       "      (dropout): Dropout(p=0.1, inplace=False)\n",
       "    )\n",
       "    (encoder): XLMRobertaEncoder(\n",
       "      (layer): ModuleList(\n",
       "        (0-11): 12 x XLMRobertaLayer(\n",
       "          (attention): XLMRobertaAttention(\n",
       "            (self): XLMRobertaSelfAttention(\n",
       "              (query): Linear(in_features=768, out_features=768, bias=True)\n",
       "              (key): Linear(in_features=768, out_features=768, bias=True)\n",
       "              (value): Linear(in_features=768, out_features=768, bias=True)\n",
       "              (dropout): Dropout(p=0.1, inplace=False)\n",
       "            )\n",
       "            (output): XLMRobertaSelfOutput(\n",
       "              (dense): Linear(in_features=768, out_features=768, bias=True)\n",
       "              (LayerNorm): LayerNorm((768,), eps=1e-05, elementwise_affine=True)\n",
       "              (dropout): Dropout(p=0.1, inplace=False)\n",
       "            )\n",
       "          )\n",
       "          (intermediate): XLMRobertaIntermediate(\n",
       "            (dense): Linear(in_features=768, out_features=3072, bias=True)\n",
       "            (intermediate_act_fn): GELUActivation()\n",
       "          )\n",
       "          (output): XLMRobertaOutput(\n",
       "            (dense): Linear(in_features=3072, out_features=768, bias=True)\n",
       "            (LayerNorm): LayerNorm((768,), eps=1e-05, elementwise_affine=True)\n",
       "            (dropout): Dropout(p=0.1, inplace=False)\n",
       "          )\n",
       "        )\n",
       "      )\n",
       "    )\n",
       "  )\n",
       "  (classifier): XLMRobertaClassificationHead(\n",
       "    (dense): Linear(in_features=768, out_features=768, bias=True)\n",
       "    (dropout): Dropout(p=0.1, inplace=False)\n",
       "    (out_proj): Linear(in_features=768, out_features=5, bias=True)\n",
       "  )\n",
       ")"
      ]
     },
     "execution_count": 29,
     "metadata": {},
     "output_type": "execute_result"
    }
   ],
   "source": [
    "# tell pytorch to run this model on GPU\n",
    "model.cuda()"
   ]
  },
  {
   "cell_type": "code",
   "execution_count": 30,
   "metadata": {},
   "outputs": [
    {
     "name": "stdout",
     "output_type": "stream",
     "text": [
      "total steps per epoch:  32.15625\n",
      "training on epoch:  0\n",
      "training on step:  50\n",
      "total time used is: 13.60 s\n",
      "training on step:  100\n",
      "total time used is: 25.80 s\n",
      "training on step:  150\n",
      "total time used is: 38.16 s\n",
      "training on step:  200\n",
      "total time used is: 50.70 s\n",
      "training on step:  250\n",
      "total time used is: 62.76 s\n",
      "training on step:  300\n",
      "total time used is: 75.07 s\n",
      "training on step:  350\n",
      "total time used is: 87.16 s\n",
      "training on step:  400\n",
      "total time used is: 99.20 s\n",
      "training on step:  450\n",
      "total time used is: 111.22 s\n",
      "training on step:  500\n",
      "total time used is: 123.64 s\n",
      "training on step:  550\n",
      "total time used is: 135.90 s\n",
      "training on step:  600\n",
      "total time used is: 149.03 s\n",
      "training on step:  650\n",
      "total time used is: 162.22 s\n",
      "training on step:  700\n",
      "total time used is: 174.72 s\n",
      "training on step:  750\n",
      "total time used is: 187.18 s\n",
      "training on step:  800\n",
      "total time used is: 199.25 s\n",
      "training on step:  850\n",
      "total time used is: 211.32 s\n",
      "training on step:  900\n",
      "total time used is: 223.40 s\n",
      "training on step:  950\n",
      "total time used is: 236.54 s\n",
      "training on step:  1000\n",
      "total time used is: 250.37 s\n",
      "average training loss: 1.04\n"
     ]
    }
   ],
   "source": [
    "# Training\n",
    "import time\n",
    "# Store the average loss after each epoch \n",
    "loss_values = []\n",
    "# number of total steps for each epoch\n",
    "print('total steps per epoch: ',  len(train_dataloader) / batch_size)\n",
    "# looping over epochs\n",
    "for epoch_i in range(0, epochs):\n",
    "    \n",
    "    print('training on epoch: ', epoch_i)\n",
    "    # set start time \n",
    "    t0 = time.time()\n",
    "    # reset total loss\n",
    "    total_loss = 0\n",
    "    # model in training \n",
    "    model.train()\n",
    "    # loop through batch \n",
    "    for step, batch in enumerate(train_dataloader):\n",
    "        # Progress update every 50 step \n",
    "        if step % 50 == 0 and not step == 0:\n",
    "            print('training on step: ', step)\n",
    "            print('total time used is: {0:.2f} s'.format(time.time() - t0))\n",
    "        # load data from dataloader \n",
    "        b_input_ids = batch[0].to(device)\n",
    "        b_input_mask = batch[1].to(device)\n",
    "        b_labels = batch[2].to(device)\n",
    "        b_labels = b_labels.long()# new add\n",
    "        # clear any previously calculated gradients \n",
    "        model.zero_grad()\n",
    "        # get outputs\n",
    "        outputs = model(b_input_ids,\n",
    "                        token_type_ids=None,\n",
    "                        attention_mask=b_input_mask,\n",
    "                        labels=b_labels)\n",
    "        # get loss\n",
    "        loss = outputs[0]\n",
    "\n",
    "        loss.backward()# new add\n",
    "\n",
    "        # total loss\n",
    "        total_loss += loss.item()\n",
    "        # clip the norm of the gradients to 1.0.\n",
    "        torch.nn.utils.clip_grad_norm_(model.parameters(), 1.0)\n",
    "        # update optimizer\n",
    "        optimizer.step()\n",
    "        # update learning rate \n",
    "        scheduler.step()\n",
    "    # Calculate the average loss over the training data.\n",
    "    avg_train_loss = total_loss / len(train_dataloader)\n",
    "    # Store the loss value for plotting the learning curve.\n",
    "    loss_values.append(avg_train_loss)\n",
    "    print(\"average training loss: {0:.2f}\".format(avg_train_loss))"
   ]
  },
  {
   "cell_type": "code",
   "execution_count": 31,
   "metadata": {},
   "outputs": [
    {
     "name": "stdout",
     "output_type": "stream",
     "text": [
      "total time used is: 17.19 s\n"
     ]
    }
   ],
   "source": [
    "# Test\n",
    "import numpy as np\n",
    "t0 = time.time()\n",
    "# model in validation mode\n",
    "model.eval()\n",
    "# save prediction\n",
    "predictions,true_labels =[],[]\n",
    "# evaluate data for one epoch\n",
    "for batch in validation_dataloader:\n",
    "    # Add batch to GPU\n",
    "    batch = tuple(t.to(device) for t in batch)\n",
    "    # Unpack the inputs from our dataloader\n",
    "    b_input_ids, b_input_mask, b_labels = batch\n",
    "    # validation\n",
    "    with torch.no_grad():\n",
    "        outputs = model(b_input_ids,\n",
    "                        token_type_ids=None,\n",
    "                        attention_mask=b_input_mask)\n",
    "    # get output\n",
    "    logits = outputs[0]\n",
    "    # move logits and labels to CPU\n",
    "    logits = logits.detach().cpu().numpy()\n",
    "    label_ids = b_labels.to('cpu').numpy()\n",
    "    final_prediction = np.argmax(logits, axis=-1).flatten()\n",
    "    predictions.append(final_prediction)\n",
    "    true_labels.append(label_ids)\n",
    "    \n",
    "print('total time used is: {0:.2f} s'.format(time.time() - t0))"
   ]
  },
  {
   "cell_type": "code",
   "execution_count": 32,
   "metadata": {},
   "outputs": [
    {
     "data": {
      "text/plain": [
       "[array([0, 0, 0, 0, 2, 0, 0, 3, 0, 1, 0, 0, 1, 4, 0, 0, 1, 0, 3, 2, 2, 0,\n",
       "        3, 4, 0, 4, 1, 4, 0, 2, 4, 4], dtype=int64),\n",
       " array([4, 3, 4, 1, 2, 0, 4, 3, 1, 1, 4, 2, 2, 3, 1, 0, 4, 3, 4, 2, 4, 2,\n",
       "        2, 4, 4, 2, 2, 0, 0, 2, 1, 1], dtype=int64),\n",
       " array([4, 4, 0, 4, 2, 0, 0, 2, 2, 3, 4, 2, 1, 2, 1, 4, 3, 0, 4, 0, 0, 1,\n",
       "        0, 1, 2, 4, 1, 0, 4, 1, 1, 1], dtype=int64),\n",
       " array([4, 0, 4, 0, 3, 2, 2, 1, 3, 4, 3, 4, 2, 4, 4, 3, 4, 4, 0, 4, 3, 4,\n",
       "        4, 0, 2, 1, 1, 2, 0, 4, 4, 4], dtype=int64),\n",
       " array([0, 2, 3, 3, 4, 1, 1, 4, 3, 0, 3, 2, 0, 3, 3, 1, 2, 1, 0, 4, 2, 4,\n",
       "        2, 2, 3, 4, 3, 1, 0, 4, 4, 2], dtype=int64),\n",
       " array([4, 4, 1, 4, 2, 0, 2, 4, 4, 1, 2, 3, 3, 3, 3, 2, 1, 3, 4, 2, 0, 0,\n",
       "        1, 2, 1, 2, 2, 2, 2, 0, 2, 1], dtype=int64),\n",
       " array([2, 1, 3, 3, 4, 3, 4, 2, 0, 1, 2, 4, 4, 0, 2, 4, 1, 4, 4, 1, 4, 1,\n",
       "        0, 4, 0, 3, 0, 1, 4, 2, 2, 4], dtype=int64),\n",
       " array([1, 1, 4, 4, 4, 1, 2, 1, 1, 4, 1, 0, 3, 0, 4, 1, 2, 1, 3, 4, 1, 1,\n",
       "        4, 2, 0, 2, 4, 2, 4, 2, 1, 3], dtype=int64),\n",
       " array([2, 2, 0, 2, 4, 3, 0, 1, 0, 2, 0, 2, 1, 4, 2, 4, 4, 0, 0, 4, 1, 2,\n",
       "        3, 3, 4, 2, 0, 4, 2, 3, 2, 3], dtype=int64),\n",
       " array([0, 1, 1, 2, 1, 3, 0, 4, 1, 4, 1, 4, 4, 3, 4, 0, 1, 4, 4, 2, 4, 4,\n",
       "        0, 1, 2, 4, 4, 4, 1, 1, 4, 4], dtype=int64),\n",
       " array([3, 0, 0, 1, 0, 1, 0, 3, 4, 4, 1, 1, 2, 2, 4, 4, 4, 1, 0, 3, 4, 4,\n",
       "        3, 1, 0, 2, 0, 1, 0, 3, 1, 2], dtype=int64),\n",
       " array([3, 0, 4, 0, 2, 3, 4, 2, 2, 3, 4, 1, 2, 3, 4, 1, 3, 1, 3, 1, 3, 4,\n",
       "        1, 2, 2, 4, 3, 4, 1, 2, 2, 1], dtype=int64),\n",
       " array([3, 2, 2, 2, 2, 2, 4, 2, 1, 1, 0, 2, 1, 4, 3, 0, 1, 2, 4, 1, 4, 1,\n",
       "        1, 1, 3, 3, 1, 4, 2, 2, 2, 4], dtype=int64),\n",
       " array([4, 1, 1, 4, 0, 3, 4, 3, 1, 1, 4, 4, 3, 3, 0, 0, 4, 3, 4, 0, 4, 4,\n",
       "        2, 2, 0, 4, 4, 1, 0, 1, 2, 3], dtype=int64),\n",
       " array([1, 2, 2, 1, 3, 4, 4, 0, 4, 0, 1, 1, 3, 3, 3, 3, 0, 3, 4, 3, 2, 2,\n",
       "        2, 4, 4, 4, 4, 1, 3, 0, 2, 4], dtype=int64),\n",
       " array([4, 0, 3, 1, 0, 3, 2, 3, 2, 4, 4, 3, 2, 4, 4, 3, 1, 1, 0, 3, 2, 0,\n",
       "        0, 4, 2, 1, 0, 3, 4, 1, 4, 1], dtype=int64),\n",
       " array([0, 4, 3, 1, 3, 4, 0, 0, 2, 2, 3, 3, 1, 4, 2, 0, 2, 2, 2, 3, 1, 0,\n",
       "        4, 4, 1, 2, 1, 4, 0, 2, 1, 2], dtype=int64),\n",
       " array([1, 4, 3, 4, 4, 4, 1, 4, 0, 3, 3, 1, 4, 1, 4, 2, 1, 0, 3, 4, 4, 0,\n",
       "        4, 1, 0, 1, 0, 4, 4, 4, 2, 0], dtype=int64),\n",
       " array([2, 4, 2, 2, 4, 3, 2, 2, 3, 3, 1, 1, 3, 1, 0, 0, 2, 4, 1, 0, 1, 0,\n",
       "        4, 4, 2, 1, 1, 3, 1, 0, 4, 4], dtype=int64),\n",
       " array([0, 0, 1, 2, 4, 2, 3, 2, 1, 1, 1, 2, 1, 2, 2, 4, 2, 0, 4, 4, 4, 2,\n",
       "        2, 2, 3, 3, 1, 1, 4, 2, 3, 2], dtype=int64),\n",
       " array([2, 0, 1, 4, 0, 3, 0, 0, 0, 2, 1, 3, 1, 1, 2, 0, 0, 4, 1, 4, 1, 4,\n",
       "        1, 4, 3, 2, 0, 2, 0, 3, 4, 4], dtype=int64),\n",
       " array([2, 2, 4, 1, 4, 0, 3, 1, 0, 3, 2, 4, 3, 2, 0, 4, 3, 0, 1, 3, 3, 4,\n",
       "        2, 3, 0, 0, 0, 0, 4, 0, 4, 0], dtype=int64),\n",
       " array([4, 0, 3, 2, 3, 4, 0, 1, 4, 1, 4, 4, 3, 0, 1, 0, 4, 1, 4, 4, 3, 4,\n",
       "        1, 4, 1, 4, 3, 4, 4, 4, 3, 2], dtype=int64),\n",
       " array([0, 2, 2, 2, 4, 2, 4, 0, 4, 4, 1, 3, 2, 2, 3, 1, 1, 0, 0, 3, 0, 4,\n",
       "        1, 3, 0, 4, 4, 4, 1, 3, 1, 4], dtype=int64),\n",
       " array([4, 2, 1, 4, 0, 3, 1, 4, 2, 4, 1, 2, 4, 0, 1, 0, 2, 0, 3, 2, 3, 4,\n",
       "        2, 3, 0, 3, 1, 0, 4, 3, 0, 1], dtype=int64),\n",
       " array([4, 2, 4, 0, 0, 1, 4, 4, 0, 2, 2, 2, 2, 4, 1, 1, 2, 2, 4, 3, 2, 1,\n",
       "        1, 1, 1, 1, 4, 4, 3, 4, 2, 4], dtype=int64),\n",
       " array([2, 2, 4, 3, 2, 4, 2, 2, 3, 3, 2, 0, 3, 2, 1, 1, 0, 4, 1, 1, 4, 4,\n",
       "        2, 1, 1, 4, 1, 0, 3, 4, 4, 3], dtype=int64),\n",
       " array([2, 0, 2, 2, 2, 0, 4, 4, 1, 1, 3, 0, 1, 3, 4, 4, 4, 1, 4, 2, 1, 2,\n",
       "        0, 1, 1, 3, 4, 1, 3, 1, 4, 3], dtype=int64),\n",
       " array([4, 1, 3, 0, 1, 4, 0, 0, 1, 2, 2, 1, 3, 3, 1, 0, 2, 4, 4, 2, 2, 1,\n",
       "        3, 2, 1, 0, 1, 4, 0, 1, 2, 4], dtype=int64),\n",
       " array([1, 4, 2, 1, 2, 3, 2, 2, 3, 3, 1, 2, 4, 1, 1, 3, 0, 4, 3, 3, 4, 1,\n",
       "        3, 2, 3, 2, 0, 4, 2, 1, 2, 1], dtype=int64),\n",
       " array([2, 0, 3, 3, 3, 3, 4, 4, 2, 4, 3, 4, 0, 4, 4, 0, 2, 0, 2, 0, 4, 0,\n",
       "        3, 0, 4, 4, 0, 4, 1, 0, 4, 4], dtype=int64),\n",
       " array([4, 1, 2, 4, 4, 3, 4, 3, 4, 4, 3, 4, 2, 2, 3, 2, 2, 3, 3, 0, 0, 2,\n",
       "        2, 2, 2, 0, 4, 4, 2, 2, 3, 4], dtype=int64),\n",
       " array([2, 1, 2, 0, 2, 3, 2, 3, 0, 1, 4, 2, 2, 0, 0, 4, 1, 1, 4, 2, 2, 1,\n",
       "        4, 1, 0, 4, 1, 1, 2, 1, 4, 1], dtype=int64),\n",
       " array([1, 4, 2, 0, 2, 3, 3, 3, 3, 4, 2, 3, 2, 0, 2, 1, 1, 1, 0, 3, 3, 3,\n",
       "        0, 0, 2, 2, 2, 2, 4, 1, 1, 1], dtype=int64),\n",
       " array([2, 2, 4, 4, 0, 4, 1, 4, 2, 4, 4, 3, 4, 2, 0, 0, 3, 4, 4, 4, 4, 4,\n",
       "        1, 1, 1, 1, 4, 2, 2, 2, 1, 0], dtype=int64),\n",
       " array([2, 3, 1, 4, 1, 0, 0, 2, 0, 0, 2, 4, 3, 0, 2, 4, 3, 0, 4, 1, 4, 0,\n",
       "        3, 3, 3, 1, 2, 2, 1, 4, 4, 3], dtype=int64),\n",
       " array([0, 4, 1, 2, 1, 2, 4, 2, 2, 1, 4, 0, 4, 4, 4, 0, 3, 4, 4, 4, 4, 3,\n",
       "        3, 4, 4, 3, 3, 4, 3, 3, 1, 4], dtype=int64),\n",
       " array([3, 3, 4, 0, 2, 1, 4, 2, 4, 0, 0, 0, 3, 3, 3, 3, 4, 3, 1, 2, 3, 1,\n",
       "        0, 2, 3, 2, 3, 3, 3, 4, 2, 1], dtype=int64),\n",
       " array([0, 2, 4, 4, 1, 4, 4, 0, 2, 4, 3, 4, 0, 1, 4, 1, 2, 1, 0, 2, 3, 2,\n",
       "        4, 2, 4, 4, 0, 4, 3, 2, 0, 1], dtype=int64),\n",
       " array([1, 4, 0, 0, 1, 2, 4, 2, 4, 2, 3, 2, 2, 2, 4, 2, 0, 1, 1, 4, 4, 2,\n",
       "        1, 2, 1, 2, 0, 1, 0, 1, 3, 3], dtype=int64),\n",
       " array([0, 2, 1, 2, 2, 4, 3, 3, 1, 3, 2, 0, 4, 2, 4, 4, 1, 0, 1, 4, 3, 0,\n",
       "        4, 4, 0, 1, 4, 3, 4, 2, 0, 4], dtype=int64),\n",
       " array([3, 1, 4, 3, 2, 2, 4, 4, 2, 2, 4, 3, 2, 1, 2, 3, 0, 2, 3, 1, 2, 4,\n",
       "        4, 3, 4, 1, 0, 2, 1, 4, 1, 2], dtype=int64),\n",
       " array([4, 2, 0, 0, 0, 0, 4, 0, 0, 1, 4, 2, 4, 2, 3, 1, 0, 4, 2, 4, 1, 4,\n",
       "        4, 0, 1, 2, 2, 2, 1, 0, 0, 2], dtype=int64),\n",
       " array([1, 0, 0, 3, 2, 4, 0, 1, 2, 1, 1, 3, 0, 2, 0, 2, 3, 4, 2, 1, 4, 4,\n",
       "        2, 0, 1, 1, 3, 0, 1, 2, 3, 0], dtype=int64),\n",
       " array([3, 1, 2, 0, 2, 3, 3, 1, 2, 1, 0, 4, 3, 0, 3, 3, 4, 3, 4, 2, 1, 4,\n",
       "        1, 4, 2, 1, 1, 1, 2, 0, 2, 1], dtype=int64),\n",
       " array([1, 3, 3, 1, 1, 0, 2, 4, 4, 4, 0, 0, 4, 0, 3, 1, 4, 4, 2, 2, 2, 3,\n",
       "        2, 2, 0, 0, 3, 1, 0, 4, 4, 1], dtype=int64),\n",
       " array([0, 4, 0, 2, 0, 4, 0, 4, 0, 0, 1, 1, 1, 1, 3, 0, 2, 4, 4, 0, 2, 2,\n",
       "        3, 4, 0, 4, 1, 4, 3, 4, 0, 4], dtype=int64),\n",
       " array([0, 2, 2, 2, 0, 1, 4, 1, 1, 1, 0, 0, 4, 2, 0, 1, 0, 2, 2, 0, 2, 4,\n",
       "        0, 1, 2, 4, 1, 1, 2, 4, 4, 2], dtype=int64),\n",
       " array([1, 2, 0, 2, 4, 4, 1, 2, 0, 2, 3, 4, 2, 1, 2, 2, 4, 3, 1, 4, 2, 4,\n",
       "        1, 0, 0, 0, 2, 4, 3, 2, 2, 2], dtype=int64),\n",
       " array([1, 4, 4, 4, 3, 0, 1, 4, 1, 3, 1, 1, 1, 0, 2, 0, 4, 3, 2, 1, 1, 4,\n",
       "        3, 1, 0, 4, 0, 0, 4, 3, 1, 2], dtype=int64),\n",
       " array([0, 0, 1, 1, 4, 0, 0, 1, 1, 4, 1, 4, 4, 4, 3, 4, 0, 2, 0, 0, 0, 4,\n",
       "        2, 2, 4, 0, 1, 4, 4, 2, 3, 4], dtype=int64),\n",
       " array([3, 4, 2, 1, 2, 3, 4, 4, 2, 1, 0, 3, 1, 3, 2, 0, 3, 3, 4, 4, 0, 0,\n",
       "        4, 4, 4, 4, 4, 4, 0, 4, 3, 4], dtype=int64),\n",
       " array([3, 4, 1, 2, 1, 2, 3, 4, 0, 3, 4, 1, 4, 0, 4, 0, 2, 2, 4, 0, 4, 3,\n",
       "        4, 3, 3, 4, 0, 4, 2, 4, 4, 0], dtype=int64),\n",
       " array([0, 0, 0, 1, 4, 4, 4, 0, 3, 4, 4, 1, 1, 1, 1, 2, 4, 4, 2, 3, 3, 2,\n",
       "        2, 0, 2, 0, 4, 4, 0, 4, 3, 4], dtype=int64),\n",
       " array([2, 0, 1, 1, 0, 1, 3, 1, 0, 0, 0, 0, 0, 1, 2, 2, 4, 1, 1, 0, 1, 1,\n",
       "        1, 4, 1, 0, 0, 4, 0, 3, 3, 2], dtype=int64),\n",
       " array([1, 0, 0, 1, 2, 3, 1, 3, 4, 3, 4, 3, 4, 4, 1, 1, 2, 0, 1, 4, 4, 3,\n",
       "        3, 0, 1, 4, 1, 3, 2, 4, 4, 4], dtype=int64),\n",
       " array([3, 2, 1, 0, 3, 2, 3, 4, 2, 4, 2, 3, 0, 0, 1, 4, 4, 3, 3, 3, 2, 0,\n",
       "        3, 3, 1, 2, 1, 1, 4, 2, 2, 0], dtype=int64),\n",
       " array([3, 3, 0, 1, 2, 1, 0, 3, 1, 4, 1, 4, 2, 0, 4, 1, 1, 4, 0, 1, 2, 0,\n",
       "        4, 1, 2, 1, 2, 1, 4, 0, 3, 3], dtype=int64),\n",
       " array([4, 1, 4, 1, 3, 1, 1, 2, 1, 4, 4, 3, 3, 1, 1, 1, 1, 1, 3, 2, 4, 0,\n",
       "        2, 1, 0, 1, 0, 1, 4, 3, 0, 3], dtype=int64),\n",
       " array([2, 2, 4, 0, 4, 1, 2, 0, 4, 0, 2, 2, 0, 0, 0, 3, 0, 0, 0, 2, 3, 4,\n",
       "        0, 1, 2, 2, 4, 0, 3, 4, 0, 4], dtype=int64),\n",
       " array([4, 0, 3, 4, 4, 2, 3, 3, 1, 4, 4, 2, 2, 2, 2, 2, 1, 2, 2, 0, 4, 1,\n",
       "        1, 0, 3, 1, 4, 2, 0, 0, 4, 1], dtype=int64),\n",
       " array([3, 0, 3, 0, 4, 3, 4, 4, 4, 2, 2, 1, 3, 2, 2, 4, 0, 1, 4, 1, 0, 0,\n",
       "        2, 0, 2, 4, 2, 1, 0, 1, 1, 3], dtype=int64),\n",
       " array([2, 2, 4, 4, 4, 1, 2, 3, 0, 0, 1, 3, 4, 4, 0, 4, 2, 0, 0, 2, 4, 1,\n",
       "        1, 4, 3, 2, 0, 1, 3, 4, 1, 2], dtype=int64),\n",
       " array([1, 4, 0, 4, 1, 3, 3, 2, 4, 3, 2, 1, 0, 0, 0, 4, 2, 4, 0, 1, 0, 1,\n",
       "        2, 4, 0, 1, 4, 3, 3, 0, 4, 0], dtype=int64),\n",
       " array([1, 0, 4, 1, 0, 2, 2, 1, 4, 2, 0, 3, 2, 0, 4, 4, 4, 4, 2, 4, 4, 2,\n",
       "        1, 1, 3, 3, 1, 0, 0, 1, 4, 0], dtype=int64),\n",
       " array([2, 4, 4, 2, 4, 2, 4, 2, 1, 4, 0, 0, 1, 0, 3, 0, 2, 2, 1, 4, 4, 0,\n",
       "        0, 4, 4, 4, 3, 1, 2, 3, 1, 4], dtype=int64),\n",
       " array([2, 0, 3, 0, 3, 1, 3, 0, 3, 0, 4, 1, 2, 4, 2, 0, 4, 1, 2, 3, 0, 3,\n",
       "        2, 4, 0, 1, 3, 4, 0, 1, 1, 4], dtype=int64),\n",
       " array([4, 0, 2, 3, 4, 0, 2, 3, 2, 1, 1, 2, 1, 0, 0, 2, 3, 1, 2, 3, 1, 4,\n",
       "        1, 2, 3, 0, 4, 0, 1, 4, 1, 3], dtype=int64),\n",
       " array([2, 2, 2, 0, 1, 4, 4, 0, 1, 4, 1, 1, 4, 0, 3, 4, 3, 3, 0, 0, 4, 0,\n",
       "        3, 2, 4, 1, 4, 1, 2, 0, 2, 0], dtype=int64),\n",
       " array([0, 2, 4, 0, 2, 1, 2, 0, 0, 1, 2, 3, 4, 0, 1, 1, 1, 1, 4, 1, 2, 1,\n",
       "        0, 0, 2, 4, 1, 4, 3, 3, 4, 4], dtype=int64),\n",
       " array([1, 2, 1, 3, 3, 0, 1, 0, 2, 1, 0, 4, 3, 3, 0, 4, 4, 4, 1, 0, 4, 4,\n",
       "        0, 4, 3, 4, 0, 2, 4, 2, 0, 1], dtype=int64),\n",
       " array([1, 0, 0, 3, 2, 3, 2, 4, 4, 4, 4, 2, 0, 4, 2, 4, 3, 2, 2, 3, 4, 0,\n",
       "        2, 4, 1, 3, 2, 1, 4, 2, 0, 1], dtype=int64),\n",
       " array([0, 4, 2, 1, 4, 2, 4, 0, 2, 3, 2, 2, 0, 1, 2, 0, 1, 2, 2, 3, 0, 3,\n",
       "        4, 4, 2, 1, 4, 2, 3, 4, 2, 4], dtype=int64),\n",
       " array([4, 4, 2, 2, 1, 2, 0, 3, 4, 4, 0, 2, 1, 0, 0, 3, 4, 0, 1, 4, 3, 3,\n",
       "        0, 0, 4, 2, 4, 1, 4, 2, 3, 4], dtype=int64),\n",
       " array([0, 3, 1, 2, 4, 3, 2, 1, 2, 2, 0, 2, 0, 0, 4, 1, 4, 3, 4, 0, 2, 1,\n",
       "        1, 0, 4, 4, 4, 3, 2, 2, 2, 1], dtype=int64),\n",
       " array([0, 4, 0, 0, 0, 2, 0, 1, 1, 2, 4, 3, 4, 2, 4, 3, 4, 3, 0, 4, 4, 3,\n",
       "        3, 2, 1, 3, 0, 0, 1, 1, 4, 3], dtype=int64),\n",
       " array([1, 0, 1, 0, 3, 3, 4, 4, 1, 4, 0, 4, 4, 2, 2, 2, 0, 2, 4, 3, 0, 1,\n",
       "        1, 1, 2, 3, 4, 3, 2, 2, 3, 0], dtype=int64),\n",
       " array([3, 1, 4, 0, 2, 2, 4, 2, 2, 1, 0, 4, 4, 0, 2, 4, 4, 4, 4, 3, 4, 1,\n",
       "        0, 1, 2, 2, 0, 4, 0, 2, 1, 0], dtype=int64),\n",
       " array([1, 0, 4, 4, 1, 2, 3, 2, 2, 1, 2, 1, 2, 0, 3, 2, 1, 2, 4, 2, 4, 0,\n",
       "        4, 4, 4, 2, 3, 3, 0, 0, 2, 1], dtype=int64),\n",
       " array([0, 2, 4, 2, 2, 3, 4, 2, 1, 3, 4, 3, 3, 2, 2, 1, 0, 3, 1, 4, 0, 4,\n",
       "        2, 4, 2, 0, 4, 2, 4, 4, 3, 3], dtype=int64),\n",
       " array([4, 0, 4, 1, 2, 0, 1, 4, 4, 3, 4, 2, 2, 4, 3, 0, 0, 4, 3, 3, 0, 2,\n",
       "        0, 0, 1, 4, 1, 0, 4, 2, 2, 4], dtype=int64),\n",
       " array([4, 4, 4, 2, 0, 1, 0, 0, 2, 2, 3, 2, 1, 2, 3, 4, 2, 2, 2, 1, 1, 2,\n",
       "        1, 2, 2, 2, 4, 0, 0, 2, 2, 1], dtype=int64),\n",
       " array([4, 4, 0, 0, 3, 1, 1, 4, 1, 4, 0, 2, 1, 1, 1, 4, 2, 0, 4, 2, 4, 1,\n",
       "        0, 3, 0, 1, 2, 4, 0, 3, 2, 2], dtype=int64),\n",
       " array([1, 2, 1, 1, 1, 0, 4, 4, 4, 0, 4, 2, 3, 2, 1, 3, 2, 1, 2, 3, 2, 1,\n",
       "        2, 0, 2, 4, 1, 2, 2, 1, 1, 4], dtype=int64),\n",
       " array([0, 3, 4, 2, 4, 2, 3, 3, 0, 4, 2, 0, 3, 2, 1, 0, 4, 2, 1, 4, 1, 2,\n",
       "        0, 0, 0, 0, 0, 0, 2, 0, 4, 3], dtype=int64),\n",
       " array([2, 4, 1, 4, 1, 2, 3, 2, 4, 3, 1, 1, 0, 2, 4, 0, 4, 1, 2, 3, 1, 4,\n",
       "        1, 0, 3, 2, 2, 1, 4, 4, 1, 3], dtype=int64),\n",
       " array([4, 3, 4, 0, 4, 2, 2, 4, 0, 2, 0, 2, 1, 4, 1, 0, 0, 2, 0, 3, 2, 1,\n",
       "        1, 0, 4, 2, 2, 4, 3, 2, 3, 0], dtype=int64),\n",
       " array([3, 4, 4, 4, 3, 2, 4, 0, 4, 4, 0, 1, 3, 2, 4, 4, 4, 2, 0, 0, 1, 4,\n",
       "        3, 3, 4, 2, 4, 4, 0, 0, 2, 1], dtype=int64),\n",
       " array([3, 1, 3, 2, 2, 2, 3, 1, 3, 2, 0, 3, 1, 2, 2, 1, 4, 4, 1, 2, 0, 4,\n",
       "        2, 4, 3, 2, 1, 0, 4, 3, 1, 0], dtype=int64),\n",
       " array([4, 3, 3, 1, 1, 3, 3, 1, 2, 1, 1, 0, 4, 4, 2, 4, 2, 2, 2, 2, 4, 1,\n",
       "        3, 1, 1, 3, 3, 3, 4, 4, 0, 2], dtype=int64),\n",
       " array([0, 2, 1, 0, 4, 4, 4, 4, 4, 1, 2, 0, 0, 2, 1, 2, 4, 1, 1, 4, 4, 3,\n",
       "        2, 3, 4, 2, 1, 2, 4, 2, 1, 0], dtype=int64),\n",
       " array([4, 4, 3, 3, 2, 3, 3, 0, 0, 0, 4, 4, 2, 4, 3, 4, 3, 2, 2, 4, 4, 4,\n",
       "        2, 2, 3, 1, 2, 1, 1, 4, 2, 1], dtype=int64),\n",
       " array([0, 2, 0, 4, 1, 4, 3, 3, 4, 1, 4, 2, 2, 2, 1, 4, 4, 3, 3, 3, 1, 4,\n",
       "        1, 4, 1, 0, 3, 2, 1, 1, 3, 1], dtype=int64),\n",
       " array([2, 4, 1, 3, 1, 4, 1, 4, 3, 1, 0, 4, 2, 4, 2, 1, 3, 4, 4, 2, 1, 2,\n",
       "        2, 1, 2, 1, 2, 2, 1, 0, 1, 0], dtype=int64),\n",
       " array([2, 0, 1, 4, 4, 0, 2, 4, 1, 4, 1, 2, 2, 2, 3, 1, 1, 4, 2, 1, 2, 0,\n",
       "        3, 2, 2, 2, 4, 2, 2, 4, 3, 3], dtype=int64),\n",
       " array([3, 3, 0, 4, 4, 4, 2, 3, 2, 2, 1, 1, 1, 3, 4, 1, 3, 2, 3, 0, 1, 3,\n",
       "        3, 3, 3, 2, 2, 4, 1, 4, 3, 0], dtype=int64),\n",
       " array([3, 2, 2, 1, 1, 2, 1, 2, 2, 4, 4, 4, 0, 4, 0, 0, 2, 4, 4, 1, 0, 3,\n",
       "        2, 3, 4, 2, 4, 0, 4, 1, 1, 0], dtype=int64),\n",
       " array([3, 0, 2, 1, 4, 4, 0, 4, 1, 1, 4, 1, 2, 4, 4, 3, 0, 3, 0, 3, 0, 0,\n",
       "        1, 4, 2, 0, 4, 0, 0, 1, 4, 0], dtype=int64),\n",
       " array([0, 3, 2, 2, 4, 2, 2, 4, 4, 3, 2, 2, 1, 0, 1, 0, 4, 3, 4, 1, 3, 0,\n",
       "        4, 3, 4, 3, 4, 0, 1, 3, 3, 4], dtype=int64),\n",
       " array([0, 1, 0, 1, 2, 0, 2, 1, 1, 3, 1, 3, 2, 2, 3, 4, 0, 3, 1, 4, 2, 1,\n",
       "        3, 0, 0, 4, 3, 1, 1, 0, 1, 3], dtype=int64),\n",
       " array([2, 2, 2, 4, 4, 2, 4, 4, 4, 4, 0, 0, 1, 4, 4, 1, 0, 2, 3, 0, 0, 4,\n",
       "        2, 4, 3, 2, 1, 4, 0, 3, 4, 1], dtype=int64),\n",
       " array([1, 2, 0, 4, 0, 2, 1, 1, 2, 0, 2, 3, 4, 0, 3, 0, 1, 3, 2, 2, 4, 4,\n",
       "        0, 4, 1, 2, 1, 0, 0, 2, 1, 4], dtype=int64),\n",
       " array([3, 0, 3, 1, 1, 3, 0, 4, 0, 2, 2, 4, 2, 3, 0, 0, 2, 4, 2, 2, 3, 3,\n",
       "        4, 1, 1, 0, 4, 2, 2, 4, 3, 0], dtype=int64),\n",
       " array([0, 4, 2, 2, 4, 2, 1, 2, 4, 4, 0, 0, 4, 1, 2, 1, 2, 2, 2, 0, 2, 4,\n",
       "        3, 0, 2, 4, 1, 2, 3, 2, 2, 1], dtype=int64),\n",
       " array([1, 0, 2, 4, 3, 1, 4, 3, 1, 2, 0, 2, 1, 3, 0, 3, 4, 0, 4, 2, 0, 2,\n",
       "        2, 1, 0, 4, 3, 2, 4, 1, 2, 1], dtype=int64),\n",
       " array([3, 4, 4, 1, 0, 1, 0, 3, 0, 1, 4, 4, 2, 2, 1, 1, 4, 4, 2, 3, 0, 1,\n",
       "        4, 0, 1, 0, 0, 0, 3, 2, 3, 4], dtype=int64),\n",
       " array([3, 2, 2, 0, 3, 3, 0, 2, 3, 4, 0, 3, 4, 3, 3, 3, 1, 2, 3, 1, 4, 0,\n",
       "        4, 0, 2, 2, 2, 2, 4, 3, 0, 3], dtype=int64),\n",
       " array([2, 0, 1, 3, 0, 4, 2, 0, 0, 2, 2, 0, 2, 2, 3, 3, 3, 0, 4, 3, 3, 1,\n",
       "        4, 1, 3, 0, 3, 2, 3, 0, 1, 4], dtype=int64),\n",
       " array([3, 4, 2, 1, 1, 0, 1, 2, 2, 3, 4, 2, 0, 3, 4, 4, 4, 0, 2, 3, 0, 2,\n",
       "        0, 2, 2, 2, 4, 2, 4, 3, 4, 3], dtype=int64),\n",
       " array([3, 3, 0, 4, 4, 4, 0, 4, 1, 1, 1, 1, 3, 2, 0, 0, 0, 4, 4, 4, 4, 4,\n",
       "        1, 0, 0, 4, 4, 4, 4, 0, 2, 2], dtype=int64),\n",
       " array([2, 3, 2, 4, 1, 3, 3, 3, 1, 4, 1, 2, 2, 2, 4, 1, 0, 2, 4, 3, 4, 2,\n",
       "        4, 1, 1, 2, 4, 4, 3, 3, 4, 1], dtype=int64),\n",
       " array([3, 1, 2, 2, 3, 2, 1, 4, 2, 2, 0, 4, 4, 4, 1, 4, 3, 0, 0, 4, 2, 0,\n",
       "        2, 2, 4, 2, 2, 0, 4, 0, 4, 4], dtype=int64),\n",
       " array([4, 4, 2, 4, 4, 4, 3, 4, 4, 0, 4, 4, 4, 2, 1, 2, 4, 3, 1, 0, 3, 2,\n",
       "        3, 4, 3, 4, 1, 0, 4, 0, 0, 3], dtype=int64),\n",
       " array([1, 0, 2, 3, 2, 4, 0, 3, 3, 1, 2, 4, 0, 2, 3, 4, 3, 0, 4, 4, 1, 1,\n",
       "        3, 4, 2, 4, 2, 0, 3, 0, 1, 2], dtype=int64),\n",
       " array([1, 4, 1, 0, 3, 4, 4, 2, 3, 1, 0, 2, 4, 3, 4, 1, 2, 3, 0, 1, 4, 3,\n",
       "        2, 0, 1, 4, 3, 2, 1, 2, 2, 1], dtype=int64),\n",
       " array([1, 3, 2, 0, 3, 4, 0, 4, 1, 1, 0, 4, 3, 4, 1, 2, 1, 3, 4, 2, 1, 0,\n",
       "        0, 2, 1, 4, 2, 1, 4, 4, 1, 2], dtype=int64),\n",
       " array([4, 2, 3, 3, 3, 2, 4, 3, 2, 3, 4, 2, 0, 2, 4, 4, 3, 4, 2, 1, 3, 2,\n",
       "        1, 2, 4, 0, 2, 4, 2, 4, 4, 4], dtype=int64),\n",
       " array([4, 0, 4, 2, 4, 2, 1, 3, 3, 0, 4, 0, 2, 3, 0, 2, 3, 3, 0, 4, 1, 0,\n",
       "        1, 0, 3, 2, 3, 4, 3, 4, 1, 0], dtype=int64),\n",
       " array([0, 1, 0, 4, 2, 0, 4, 2, 0, 4, 2, 4, 2, 4, 0, 3, 2, 1, 4, 2, 2, 2,\n",
       "        4, 3, 2, 1, 4, 3, 3, 3, 1, 4], dtype=int64),\n",
       " array([2, 2, 2, 0, 2, 0, 4, 3, 0, 3, 1, 4, 2, 1, 1, 4, 3, 1, 3, 2, 4, 3,\n",
       "        1, 1, 1, 0, 0, 4, 3, 0, 0, 2], dtype=int64),\n",
       " array([3, 4, 3, 2, 2, 3, 3, 2, 4, 4, 1, 1, 4, 0, 3, 0, 3, 0, 4, 4, 0, 4,\n",
       "        4, 1, 2, 0, 4, 4, 1, 4, 4, 2], dtype=int64),\n",
       " array([1, 4, 3, 3, 4, 1, 2, 0, 3, 1, 1, 0, 2, 2, 0, 1, 3, 2, 3, 0, 1, 0,\n",
       "        2, 0, 2, 2, 1, 2, 0, 4, 2, 4], dtype=int64),\n",
       " array([0, 0, 0, 1, 2, 0, 0, 2, 0, 2, 2, 3, 0, 0, 4, 2, 1, 3, 2, 2, 2, 2,\n",
       "        1, 4, 1, 4, 3, 2, 4, 4, 2, 1], dtype=int64),\n",
       " array([2, 2, 4, 3, 1, 3, 4, 2, 2, 4, 3, 0, 2, 4, 0, 3, 4, 2, 2, 1, 2, 1,\n",
       "        4, 1, 1, 2, 2, 4, 2, 4, 3, 3], dtype=int64),\n",
       " array([2, 2, 2, 0, 4, 1, 0, 4, 1, 2, 3, 4, 4, 4, 1, 3, 3, 0, 0, 2, 2, 2,\n",
       "        4, 4, 2, 0, 0, 3, 0, 3, 2, 1], dtype=int64),\n",
       " array([0, 4, 3, 0, 0, 2, 2, 3, 4, 2, 4, 2, 3, 1, 4, 0, 2, 3, 1, 2, 1, 3,\n",
       "        1, 3, 4, 0, 2, 1, 2, 4, 3, 2], dtype=int64),\n",
       " array([0, 0, 1, 2, 3, 3, 2, 4, 0, 2, 3, 2, 0, 0, 0, 2, 2, 1, 0, 2, 2, 2,\n",
       "        4, 4, 1, 0, 0, 1, 0, 2, 1, 4], dtype=int64),\n",
       " array([2, 0, 2, 3, 4, 4, 0, 0, 3, 4, 4, 2, 3, 0, 2, 1, 3, 4, 4, 4, 2, 2,\n",
       "        3, 4, 3, 3, 4, 1, 1, 3, 3, 4], dtype=int64),\n",
       " array([0, 0, 0, 3, 3, 1, 1, 2, 0, 4, 4, 0, 2, 0, 4, 1, 4, 2, 2, 0, 4, 3,\n",
       "        2, 2, 0, 4, 4, 3, 2, 4, 4, 2], dtype=int64),\n",
       " array([2, 2, 4, 2, 3, 1, 2, 1, 4, 3, 1, 2, 0, 4, 0, 4, 0, 2, 2, 0, 1, 2,\n",
       "        3, 0, 3, 4, 2, 3, 2, 2, 4, 2], dtype=int64),\n",
       " array([2, 2, 0, 0, 1, 2, 1, 1, 1, 2, 0, 3, 0, 4, 0, 3, 1, 2, 2, 1, 0, 0,\n",
       "        1, 3, 4, 1, 0, 3, 2, 2, 4, 2], dtype=int64),\n",
       " array([0, 2, 3, 3, 3, 2, 1, 1, 2, 1, 3, 4, 2, 2, 4, 4, 1, 1, 4, 2, 4, 0,\n",
       "        1, 4, 4, 0, 1, 1, 1, 0, 1, 0], dtype=int64),\n",
       " array([0, 4, 1, 0, 0, 1, 3, 2, 1, 4, 2, 2, 2, 2, 1, 4, 3, 2, 0, 0, 4, 1,\n",
       "        0, 1, 3, 1, 0, 3, 2, 2, 0, 0], dtype=int64),\n",
       " array([3, 3, 3, 2, 3, 3, 2, 3, 2, 4, 2, 3, 1, 4, 2, 4, 3, 3, 1, 4, 2, 3,\n",
       "        1, 0, 1, 0, 3, 0, 1, 0, 4, 3], dtype=int64),\n",
       " array([0, 0, 0, 4, 3, 1, 2, 1, 2, 4, 4, 4, 2, 1, 2, 2, 0, 4, 2, 1, 1, 0,\n",
       "        4, 4, 4, 4, 4, 4, 4, 4, 4, 2], dtype=int64),\n",
       " array([2, 2, 1, 2, 2, 2, 0, 3, 0, 2, 3, 0, 1, 3, 2, 3, 2, 0, 2, 4, 4, 1,\n",
       "        0, 4, 0, 4, 1, 3, 4, 0, 4, 0], dtype=int64),\n",
       " array([3, 2, 4, 0, 2, 0, 0, 1, 1, 1, 0, 0, 3, 1, 3, 0, 2, 0, 1, 0, 1, 2,\n",
       "        3, 1, 4, 4, 1, 2, 3, 0, 0, 4], dtype=int64),\n",
       " array([4, 1, 3, 2, 3, 1, 0, 4, 4, 2, 0, 2, 4, 1, 2, 2, 2, 3, 4, 4, 2, 2,\n",
       "        2, 2, 4, 3, 3, 3, 1, 0, 3, 4], dtype=int64),\n",
       " array([4, 3, 4, 0, 1, 4, 4, 2, 4, 0, 1, 1, 4, 4, 0, 0, 0, 1, 4, 1, 0, 3,\n",
       "        4, 4, 0, 1, 2, 0, 1, 3, 1, 3], dtype=int64),\n",
       " array([1, 4, 3, 0, 4, 1, 1, 1, 0, 1, 3, 4, 4, 1, 1, 1, 3, 1, 0, 1, 3, 3,\n",
       "        1, 0, 2, 0, 0, 4, 3, 0, 0, 3], dtype=int64),\n",
       " array([2, 4, 4, 0, 2, 4, 4, 1, 4, 4, 3, 4, 1, 4, 4, 3, 0, 2, 2, 3, 3, 2,\n",
       "        0, 1, 4, 2, 4, 2, 4, 3, 2, 4], dtype=int64),\n",
       " array([4, 3, 2, 4, 0, 2, 1, 2, 1, 4, 3, 4, 0, 4, 4, 4, 4, 1, 0, 0, 3, 3,\n",
       "        4, 2, 0, 1, 4, 3, 0, 0, 4, 2], dtype=int64),\n",
       " array([2, 3, 1, 3, 1, 4, 3, 1, 0, 1, 1, 3, 1, 3, 2, 4, 4, 2, 4, 1, 4, 4,\n",
       "        1, 0, 0, 0, 4, 4, 2, 0, 0, 4], dtype=int64),\n",
       " array([1, 4, 1, 0, 0, 2, 3, 3, 3, 4, 0, 1, 2, 2, 3, 4, 0, 3, 4, 3, 4, 2,\n",
       "        4, 3, 3, 2, 0, 0, 3, 1, 1, 4], dtype=int64),\n",
       " array([3, 1, 4, 1, 4, 4, 2, 2, 1, 4, 1, 4, 1, 1, 0, 3, 3, 4, 0, 1, 3, 4,\n",
       "        4, 4, 0, 4, 0, 3, 3, 4, 0, 4], dtype=int64),\n",
       " array([1, 1, 2, 4, 3, 3, 1, 4, 4, 3, 0, 2, 0, 4, 2, 0, 1, 3, 2, 1, 4, 3,\n",
       "        4, 2, 1, 4, 0, 1, 1, 1, 2, 1], dtype=int64),\n",
       " array([3, 3, 1, 4, 1, 3, 3, 3, 4, 3, 0, 3, 3, 1, 2, 4, 4, 2, 1, 0, 2, 2,\n",
       "        2, 2, 0, 4, 1, 3, 3, 4, 4, 0], dtype=int64),\n",
       " array([4, 0, 4, 0, 3, 4, 0, 2, 0, 0, 0, 0, 4, 0, 4, 2, 4, 4, 0, 0, 1, 2,\n",
       "        2, 3, 4, 2, 4, 0, 1, 1, 4, 4], dtype=int64),\n",
       " array([0, 0, 2, 4, 2, 0, 2, 1, 3, 4, 3, 4, 4, 1, 0, 4, 4, 4, 4, 4, 0, 0,\n",
       "        4, 0, 2, 3, 4, 2, 1, 1, 4, 0], dtype=int64),\n",
       " array([3, 0, 1, 0, 4, 3, 0, 4, 4, 4, 2, 1, 1, 4, 4, 0, 0, 1, 4, 4, 0, 1,\n",
       "        2, 1, 3, 0, 1, 3, 4, 2, 2, 1], dtype=int64),\n",
       " array([1, 4, 4, 4, 3, 4, 4, 2, 4, 4, 2, 0, 0, 4, 0, 0, 3, 3, 0, 2, 0, 2,\n",
       "        4, 4, 4, 3, 3, 3, 2, 2, 4, 3], dtype=int64),\n",
       " array([2, 4, 3, 1, 2, 4, 0, 4, 0, 2, 3, 1, 4, 0, 2, 0, 3, 0, 1, 0, 1, 2,\n",
       "        4, 0, 0, 0, 0, 2, 2, 1, 2, 1], dtype=int64),\n",
       " array([0, 2, 0, 0, 2, 3, 0, 3, 3, 4, 3, 1, 3, 4, 4, 0, 2, 3, 2, 0, 3, 4,\n",
       "        2, 0, 2, 0, 0, 0, 2, 4, 2, 0], dtype=int64),\n",
       " array([0, 0, 3, 3, 2, 2, 1, 2, 0, 0, 4, 3, 4, 4, 1, 2, 3, 1, 2, 4, 4, 0,\n",
       "        2, 1, 0, 1, 0, 4, 3, 3, 3, 3], dtype=int64),\n",
       " array([0, 3, 4, 4, 1, 3, 3, 4, 0, 4, 4, 4, 3, 3, 3, 0, 2, 4, 4, 4, 1, 2,\n",
       "        1, 0, 2, 3, 4, 4, 1, 0, 2, 2], dtype=int64),\n",
       " array([4, 2, 0, 0, 1, 1, 3, 1, 2, 2, 3, 0, 1, 2, 4, 3, 0, 2, 3, 3, 3, 1,\n",
       "        2, 1, 1, 4, 4, 4, 4, 1, 1, 4], dtype=int64),\n",
       " array([1, 0, 4, 0, 4, 4, 1, 2, 2, 2, 2, 1, 3, 4, 1, 3, 3, 1, 1, 2, 0, 1,\n",
       "        4, 3, 3, 2, 2, 1, 4, 3, 2, 2], dtype=int64),\n",
       " array([4, 2, 1, 4, 2, 4, 3, 1, 0, 3, 0, 1, 3, 2, 4, 4, 3, 4, 0, 2, 1, 2,\n",
       "        4, 3, 4, 2, 3, 3, 0, 4, 4, 1], dtype=int64),\n",
       " array([2, 3, 1, 1, 4, 0, 0, 2, 0, 2, 1, 0, 0, 3, 0, 3, 2, 4, 3, 3, 3, 0,\n",
       "        4, 2, 3, 0, 1, 2, 2, 4, 2, 1], dtype=int64),\n",
       " array([1, 1, 1, 0, 1, 0, 0, 1, 4, 0, 4, 1, 1, 2, 0, 2, 4, 1, 2, 3, 4, 2,\n",
       "        1, 4, 4, 1, 1, 3, 2, 0, 1, 0], dtype=int64),\n",
       " array([4, 3, 2, 2, 3, 4, 1, 2, 4, 4, 3, 0, 2, 0, 1, 3, 1, 0, 0, 2, 0, 0,\n",
       "        3, 2, 1, 3, 2, 4, 3, 2, 3, 3], dtype=int64),\n",
       " array([1, 2, 0, 3, 4, 0, 1, 4, 4, 4, 4, 0, 1, 0, 0, 1, 2, 4, 3, 4, 2, 4,\n",
       "        4, 2, 1, 0, 1, 0, 4, 3, 3, 4], dtype=int64),\n",
       " array([0, 2, 0, 1, 3, 4, 1, 4, 3, 0, 4, 1, 4, 0, 1, 3, 2, 1, 4, 0, 1, 2,\n",
       "        0, 0, 4, 2, 0, 1, 4, 2, 0, 0], dtype=int64),\n",
       " array([1, 2, 1, 2, 1, 2, 3, 1, 2, 3, 0, 2, 0, 1, 4, 3, 4, 4, 2, 3, 4, 1,\n",
       "        3, 3, 2, 2, 0, 1, 0, 4, 2, 0], dtype=int64),\n",
       " array([4, 1, 3, 3, 0, 3, 1, 2, 3, 4, 3, 1, 0, 4, 3, 3, 3, 1, 0, 1, 2, 4,\n",
       "        4, 3, 3, 3, 3, 4, 2, 4, 2, 2], dtype=int64),\n",
       " array([1, 3, 2, 0, 0, 0, 2, 2, 2, 1, 2, 4, 2, 3, 2, 3, 1, 1, 1, 4, 3, 2,\n",
       "        2, 4, 3, 2, 0, 1, 4, 4, 4, 0], dtype=int64),\n",
       " array([4, 3, 1, 4, 3, 4, 3, 1, 4, 3, 1, 4, 0, 3, 4, 2, 3, 3, 2, 4, 2, 2,\n",
       "        1, 4, 4, 1, 1, 2, 1, 2, 2, 4], dtype=int64),\n",
       " array([2, 1, 1, 1, 1, 3, 0, 0, 0, 4, 4, 1, 0, 1, 2, 0, 4, 3, 1, 2, 3, 2,\n",
       "        1, 1, 1, 0, 4, 0, 4, 3, 2, 1], dtype=int64),\n",
       " array([4, 1, 4, 4, 2, 1, 0, 0, 1, 0, 0, 3, 1, 4, 1, 2, 0, 0, 0, 4, 2, 1,\n",
       "        4, 3, 3, 2, 0, 3, 3, 1, 2, 2], dtype=int64),\n",
       " array([2, 2, 3, 2, 4, 0, 0, 0, 2, 4, 1, 3, 2, 0, 1, 4, 0, 0, 2, 1, 0, 4,\n",
       "        0, 1, 2, 3, 4, 1, 2, 3, 3, 3], dtype=int64),\n",
       " array([2, 0, 1, 3, 1, 3, 2, 1, 2, 0, 4, 2, 3, 0, 4, 0, 2, 3, 0, 2, 2, 4,\n",
       "        1, 1, 0, 4, 0, 1, 1, 1, 1, 0], dtype=int64),\n",
       " array([4, 2, 0, 4, 2, 4, 3, 0, 0, 0, 1, 4, 3, 4, 3, 2, 1, 3, 0, 1, 2, 2,\n",
       "        2, 2, 1, 4, 1, 0, 3, 4, 1, 0], dtype=int64),\n",
       " array([0, 4, 3, 1, 2, 2, 4, 4, 3, 0, 3, 4, 4, 2, 4, 4, 2, 2, 0, 2, 2, 1,\n",
       "        0, 1, 3, 4, 0, 0, 4, 4, 0, 3], dtype=int64),\n",
       " array([2, 4, 3, 4, 2, 1, 4, 4, 3, 4, 1, 0, 1, 2, 4, 2, 4, 1, 0, 2, 0, 4,\n",
       "        1, 3, 2, 2, 3, 1, 4, 2, 1, 4], dtype=int64),\n",
       " array([0, 1, 0, 4, 4, 4, 0, 2, 2, 1, 1, 0, 2, 4, 2, 0, 2, 4, 2, 0, 4, 1,\n",
       "        1, 0, 4, 4, 2, 0, 0, 2, 2, 2], dtype=int64),\n",
       " array([3, 1, 0, 1, 2, 3, 2, 3, 4, 2, 3, 3, 4, 2, 4, 3, 1, 1, 4, 4, 4, 4,\n",
       "        0, 0, 4, 0, 4, 0, 0, 3, 1, 1], dtype=int64),\n",
       " array([4, 4, 3, 2, 0, 4, 4, 1, 3, 3, 3, 2, 4, 1, 0, 2, 3, 2, 1, 4, 3, 3,\n",
       "        1, 1, 4, 2, 4, 1, 0, 1, 2, 4], dtype=int64),\n",
       " array([0, 0, 1, 2, 0, 2, 4, 3, 2, 0, 1, 2, 4, 4, 2, 4, 2, 4, 3, 4, 2, 1,\n",
       "        4, 1, 4, 1, 2, 1, 2, 2, 0, 0], dtype=int64),\n",
       " array([4, 4, 2, 4, 3, 0, 0, 4, 4, 4, 3, 3, 2, 1, 3, 0, 1, 1, 0, 2, 1, 4,\n",
       "        0, 2, 0, 3, 2, 2, 2, 4, 0, 4], dtype=int64),\n",
       " array([4, 1, 3, 1, 4, 1, 3, 2, 0, 0, 1, 1, 0, 1, 3, 2, 2, 1, 1, 1, 4, 3,\n",
       "        3, 3, 4, 0, 4, 3, 4, 0, 1, 2], dtype=int64),\n",
       " array([3, 2, 3, 1, 4, 2, 1, 0, 4, 3, 0, 4, 0, 0, 0, 4, 4, 1, 0, 1, 3, 3,\n",
       "        4, 1, 1, 1, 0, 3, 4, 0, 1, 0], dtype=int64),\n",
       " array([2, 4, 0, 3, 1, 3, 4, 1, 1, 0, 4, 4, 1, 4, 0, 1, 3, 4, 2, 4, 4, 0,\n",
       "        2, 4, 4, 2, 1, 1, 3, 1, 1, 4], dtype=int64),\n",
       " array([3, 4, 1, 0, 4, 2, 0, 0, 4, 4, 4, 0, 0, 1, 2, 3, 4, 4, 2, 3, 0, 4,\n",
       "        3, 4, 2, 2, 4, 4, 1, 2, 1, 2], dtype=int64),\n",
       " array([2, 2, 2, 3, 0, 2, 2, 2, 4, 4, 4, 3, 2, 1, 4, 0, 1, 4, 0, 4, 2, 4,\n",
       "        2, 0, 4, 0, 3, 2, 2, 0, 2, 2], dtype=int64),\n",
       " array([2, 4, 3, 4, 4, 3, 0, 2, 0, 1, 4, 0, 1, 1, 0, 4, 4, 1, 2, 3, 1, 4,\n",
       "        1, 2, 4, 3, 2, 2, 4, 3, 2, 3], dtype=int64),\n",
       " array([4, 3, 3, 3, 0, 2, 3, 2, 2, 3, 2, 1, 3, 4, 1, 3, 4, 0, 0, 4, 2, 2,\n",
       "        1, 2, 0, 3, 4, 3, 3, 2, 4, 4], dtype=int64),\n",
       " array([1, 0, 0, 2, 4, 0, 4, 4, 2, 2, 2, 2, 3, 4, 0, 2, 3, 4, 2, 4, 4, 4,\n",
       "        1, 0, 4, 4, 3, 0, 3, 3, 1, 2], dtype=int64),\n",
       " array([4, 0, 2, 4, 4, 2, 4, 4, 4, 4, 4, 4, 2, 3, 2, 3, 4, 0, 4, 1, 3, 3,\n",
       "        0, 3, 1, 1, 4, 0, 4, 4, 0, 2], dtype=int64),\n",
       " array([0, 1, 4, 0, 3, 1, 0, 4, 4, 4, 4, 2, 1, 3, 0, 3, 0, 1, 1, 3, 4, 3,\n",
       "        2, 4, 2, 2, 2, 0, 2, 3, 2, 1], dtype=int64),\n",
       " array([0, 3, 2, 2, 4, 4, 4, 1, 2, 4, 2, 1, 0, 2, 4, 1, 1, 1, 3, 3, 4, 4,\n",
       "        1, 4, 0, 0, 0, 3, 3, 2, 2, 3], dtype=int64),\n",
       " array([4, 2, 4, 0, 4, 1, 3, 3, 4, 3, 4, 4, 3, 3, 4, 2, 4, 3, 2, 2, 2, 2,\n",
       "        2, 2, 2, 2, 3, 4, 1, 3, 1, 4], dtype=int64),\n",
       " array([3, 0, 3, 4, 0, 1, 2, 2, 1, 2, 0, 4, 2, 2, 1, 2, 3, 3, 1, 1, 3, 0,\n",
       "        4, 0, 1, 2, 4, 2, 2, 4, 1, 1], dtype=int64),\n",
       " array([1, 3, 0, 4, 1, 1, 4, 4, 1, 3, 4, 4, 2, 1, 1, 2, 4, 1, 3, 0, 1, 4,\n",
       "        4, 1, 4, 0, 2, 2, 4, 1, 1, 0], dtype=int64),\n",
       " array([3, 0, 3, 0, 4, 4, 2, 2, 0, 2, 1, 0, 4, 4, 2, 4, 2, 1, 2, 0, 1, 2,\n",
       "        1, 0, 1, 2, 1, 1, 1, 1, 4, 2], dtype=int64),\n",
       " array([0, 2, 3, 0, 0, 1, 4, 0, 2, 2, 3, 2, 3, 4, 2, 2, 0, 0, 4, 4, 2, 4,\n",
       "        4, 2, 4, 2, 2, 3, 3, 2, 1, 4], dtype=int64),\n",
       " array([3, 4, 0, 1, 2, 0, 3, 2, 4, 3, 4, 0, 4, 2, 0, 2, 2, 0, 3, 4, 3, 3,\n",
       "        2, 4, 4, 3, 3, 1, 2, 3, 1, 2], dtype=int64),\n",
       " array([2, 4, 2, 2, 2, 1, 0, 2, 1, 0, 0, 4, 3, 4, 3, 3, 1, 1, 2, 3, 3, 1,\n",
       "        3, 0, 4, 2, 0, 1, 3, 3, 3, 4], dtype=int64),\n",
       " array([3, 1, 2, 2, 1, 0, 4, 2, 3, 4, 2, 4, 2, 2, 0, 2, 1, 1, 1, 3, 1, 0,\n",
       "        4, 1, 1, 3, 4, 4, 2, 1, 4, 1], dtype=int64),\n",
       " array([4, 2, 4, 4, 2, 2, 0, 3, 2, 3, 2, 1, 3, 2, 4, 0, 0, 1, 4, 2, 4, 4,\n",
       "        0, 3, 3, 3, 0, 1, 1, 0, 4, 3], dtype=int64),\n",
       " array([1, 0, 0, 1, 1, 2, 4, 3, 1, 3, 1, 1, 2, 1, 4, 1, 2, 3, 2, 3, 0, 2,\n",
       "        4, 2, 4, 2, 2, 2, 4, 3, 1, 4], dtype=int64),\n",
       " array([0, 3, 4, 3, 1, 4, 0, 1, 0, 0, 1, 0, 1, 4, 2, 4, 1, 1, 1, 4, 4, 3,\n",
       "        0, 0, 0, 1, 1, 0, 3, 0, 2, 2], dtype=int64),\n",
       " array([3, 1, 4, 3, 2, 1, 1, 1, 0, 1, 3, 1, 4, 0, 0, 2, 0, 4, 0, 2, 1, 1,\n",
       "        0, 3, 0, 4, 0, 1, 4, 0, 3, 2], dtype=int64),\n",
       " array([3, 4, 1, 4, 1, 3, 1, 3, 0, 4, 1, 0, 4, 1, 1, 2, 1, 1, 0, 1, 0, 1,\n",
       "        0, 1, 3, 2, 1, 4, 3, 0, 4, 2], dtype=int64),\n",
       " array([1, 0, 3, 2, 3, 1, 2, 3, 2, 0, 4, 0, 1, 3, 0, 4, 4, 2, 3, 2, 4, 3,\n",
       "        4, 3, 1, 4, 3, 3, 4, 3, 0, 0], dtype=int64),\n",
       " array([2, 3, 4, 0, 1, 2, 3, 4, 2, 1, 4, 4, 2, 1, 0, 4, 4, 4, 2, 4, 3, 4,\n",
       "        2, 1, 3, 4, 1, 4, 4, 1, 3, 0], dtype=int64),\n",
       " array([3, 2, 0, 0, 4, 0, 2, 2, 0, 4, 1, 3, 0, 1, 0, 4, 3, 2, 3, 3, 2, 2,\n",
       "        1, 0, 0, 4, 3, 4, 0, 2, 4, 2], dtype=int64),\n",
       " array([3, 1, 3, 1, 4, 2, 4, 2, 0, 2, 1, 1, 3, 0, 1, 4, 2, 1, 3, 4, 4, 1,\n",
       "        2, 4, 2, 4, 1, 0, 0, 2, 1, 2], dtype=int64),\n",
       " array([1, 0, 3, 1, 2, 1, 3, 4, 1, 0, 1, 2, 3, 4, 3, 4, 4, 2, 2, 2, 4, 3,\n",
       "        0, 1, 2, 0, 0, 1, 4, 4, 3, 4], dtype=int64),\n",
       " array([0, 4, 0, 1, 4, 2, 3, 3, 4, 0, 3, 2, 1, 1, 4, 3, 3, 2, 4, 1, 1, 1,\n",
       "        2, 0, 1, 4, 2, 1, 1, 4, 3, 3], dtype=int64),\n",
       " array([2, 1, 4, 1, 2, 1, 3, 4, 0, 2, 1, 0, 0, 2, 3, 4, 1, 2, 4, 1, 2, 4,\n",
       "        0, 1, 4, 2, 4, 1, 4, 0, 1, 1], dtype=int64),\n",
       " array([3, 0, 3, 4, 0, 4, 1, 1, 3, 4, 0, 2, 0, 3, 4, 4, 0, 4, 2, 3, 0, 4,\n",
       "        4, 0, 1, 2, 2, 2, 1, 4, 4, 3], dtype=int64),\n",
       " array([1, 1, 4, 1, 3, 3, 2, 1, 0, 0, 2, 4, 4, 2, 0, 3, 2, 3, 0, 4, 0, 2,\n",
       "        2, 2, 1, 1, 1, 3, 1, 2, 2, 0], dtype=int64),\n",
       " array([3, 2, 0, 2, 1, 3, 4, 2, 1, 1, 1, 3, 3, 4, 0, 0, 3, 4, 1, 2, 0, 0,\n",
       "        0, 2, 1, 2, 3, 3, 1, 4, 0, 2], dtype=int64),\n",
       " array([2, 0, 0, 3, 3, 3, 1, 0, 4, 1, 2, 3, 3, 3, 2, 4, 4, 3, 3, 2, 4, 0,\n",
       "        1, 2, 4, 3, 2, 1, 4, 0, 1, 3], dtype=int64),\n",
       " array([0, 2, 4, 0, 3, 4, 0, 2, 4, 3, 3, 4, 2, 1, 2, 2, 2, 4, 2, 2, 1, 0,\n",
       "        1, 0, 1, 4, 1, 3, 1, 2, 1, 3], dtype=int64),\n",
       " array([3, 1, 4, 2, 1, 4, 2, 1, 4, 0, 0, 2, 3, 0, 1, 1, 4, 4, 0, 1, 2, 0,\n",
       "        4, 0, 0, 3, 4, 2, 4, 3, 0, 4], dtype=int64),\n",
       " array([2, 1, 1, 0, 3, 4, 0, 4, 1, 1, 3, 2, 3, 1, 3, 0, 0, 4, 2, 4, 2, 0,\n",
       "        0, 2, 1, 4, 4, 4, 4, 2, 3, 2], dtype=int64),\n",
       " array([2, 1, 4, 3, 0, 1, 0, 0, 1, 0, 2, 2, 3, 3, 3, 3, 4, 3, 4, 1, 4, 4,\n",
       "        4, 0, 2, 4, 1, 1, 2, 1, 2, 0], dtype=int64),\n",
       " array([4, 0, 3, 0, 0, 0, 3, 3, 1, 3, 1, 3, 4, 3, 4, 1, 2, 4, 4, 0, 4, 0,\n",
       "        0, 4, 4, 0, 2, 2, 1, 0, 4, 4], dtype=int64),\n",
       " array([0, 4, 0, 0, 2, 2, 3, 4, 4, 4, 2, 4, 4, 1, 1, 4, 2, 4, 3, 4, 0, 2,\n",
       "        3, 4, 4, 4, 3, 3, 4, 3, 1, 3], dtype=int64),\n",
       " array([2, 1, 1, 4, 4, 4, 2, 0, 1, 2, 4, 4, 2, 1, 0, 1, 3, 2, 0, 4, 2, 0,\n",
       "        4, 1, 4, 4, 4, 1, 2, 4, 4, 1], dtype=int64),\n",
       " array([4, 2, 1, 3, 3, 1, 4, 1, 2, 1, 4, 4, 0, 2, 4, 0, 3, 1, 4, 4, 0, 1,\n",
       "        4, 1, 2, 4, 1, 4, 0, 0, 4, 3], dtype=int64),\n",
       " array([2, 0, 4, 2, 3, 3, 3, 3, 2, 3, 4, 4, 4, 0, 1, 4, 3, 3, 3, 0, 2, 2,\n",
       "        1, 2, 3, 2, 4, 2, 0, 2, 0, 4], dtype=int64),\n",
       " array([1, 3, 0, 1, 0, 4, 1, 2, 2, 3, 0, 2, 0, 1, 3, 0, 4, 2, 2, 2, 0, 1,\n",
       "        4, 1, 3, 1, 4, 0, 3, 4, 0, 2], dtype=int64),\n",
       " array([2, 3, 1, 2, 1, 4, 3, 2, 4, 0, 0, 4, 4, 0, 3, 4, 1, 1, 4, 4, 1, 4,\n",
       "        2, 3, 1, 2, 2, 2, 4, 1, 2, 1], dtype=int64),\n",
       " array([0, 4, 4, 4, 2, 1, 4, 4, 4, 0, 2, 1, 3, 3, 0, 4, 0, 2, 2, 1, 0, 3,\n",
       "        4, 3, 2, 2, 0, 2, 4, 4, 1, 4], dtype=int64),\n",
       " array([1, 0, 4, 3, 1, 4, 0, 4, 3, 3, 3, 1, 4, 2, 2, 4, 2, 0, 1, 2, 4, 1,\n",
       "        2, 4, 1, 2, 2, 0, 3, 3, 2, 2], dtype=int64),\n",
       " array([4, 0, 1, 3, 2, 1, 2, 3, 1, 3, 0, 3, 2, 4, 4, 3, 3, 4, 3, 3, 2, 1,\n",
       "        4, 0, 3, 2, 4, 4, 3, 2, 4, 2], dtype=int64),\n",
       " array([4, 4, 3, 0, 1, 3, 4, 1, 2, 4, 0, 1, 1, 4, 3, 4, 1, 0, 4, 2, 4, 2,\n",
       "        4, 2, 0, 4, 2, 2, 2, 3, 0, 2], dtype=int64),\n",
       " array([0, 3, 1, 0, 3, 4, 1, 3, 4, 4, 1, 1, 0, 4, 3, 1, 2, 4, 4, 2, 1, 1,\n",
       "        3, 4, 3, 4, 0, 2, 2, 2, 2, 0], dtype=int64),\n",
       " array([2, 3, 3, 4, 0, 2, 3, 0, 1, 0, 1, 2, 4, 3, 1, 3, 2, 0, 2, 2, 2, 4,\n",
       "        4, 2, 1, 4, 0, 0, 3, 3, 4, 2], dtype=int64),\n",
       " array([2, 3, 0, 0, 3, 4, 1, 2, 1, 1, 4, 2, 4, 1, 1, 0, 1, 3, 2, 3, 1, 2,\n",
       "        1, 4, 4, 2, 4, 4, 4, 4, 3, 2], dtype=int64),\n",
       " array([4, 3, 0, 0, 0, 1, 4, 3, 3, 2, 4, 2, 2, 4, 1, 0, 1, 1, 3, 3, 2, 2,\n",
       "        3, 2, 2, 4, 0, 0, 0, 2, 3, 4], dtype=int64),\n",
       " array([0, 0, 2, 2, 3, 4, 3, 3, 0, 0, 3, 0, 4, 2, 2, 3, 0, 3, 1, 1, 4, 2,\n",
       "        2, 2, 2, 0, 1, 3, 1, 2, 3, 3], dtype=int64),\n",
       " array([1, 1, 4, 0, 0, 4, 2, 2, 1, 1, 4, 4, 3, 3, 3, 0, 4, 1, 3, 2, 4, 1,\n",
       "        0, 1, 3, 4, 2, 1, 4, 3, 1, 1], dtype=int64),\n",
       " array([2, 4, 0, 0, 1, 1, 4, 0, 0, 4, 3, 1, 3, 1, 3, 0, 0, 4, 4, 4, 3, 1,\n",
       "        0, 0, 2, 0, 3, 0, 4, 1, 1, 2], dtype=int64),\n",
       " array([4, 2, 3, 3, 4, 0, 4, 1, 3, 4, 2, 4, 1, 3, 0, 2, 4, 2, 0, 0, 1, 1,\n",
       "        1, 4, 1, 3, 4, 0, 4, 4, 0, 4], dtype=int64),\n",
       " array([1, 1, 1, 1, 4, 3, 4, 4, 3, 0, 4, 0, 4, 1, 0, 3, 2, 4, 1, 0, 1, 2,\n",
       "        3, 3, 3, 2, 4, 1, 2, 2, 3, 3], dtype=int64),\n",
       " array([2, 4, 1, 4, 2, 2, 2, 4, 4, 3, 0, 2, 3, 4, 0, 3, 2, 2, 2, 4, 0, 4,\n",
       "        4, 1, 4, 3, 2, 3, 4, 4, 4, 1], dtype=int64),\n",
       " array([0, 4, 2, 3, 4, 3, 3, 1, 0, 1, 0, 0, 4, 1, 3, 0, 1, 4, 2, 2, 4, 1,\n",
       "        0, 2, 4, 1, 4, 0, 4, 1, 4, 4], dtype=int64),\n",
       " array([2, 4, 4, 0, 2, 4, 4, 3, 1, 0, 1, 2, 2, 4, 1, 1, 3, 4, 0, 4, 3, 0,\n",
       "        2, 0, 1, 4, 2, 0, 1, 3, 0, 2], dtype=int64),\n",
       " array([0, 4, 2, 1, 0, 1, 2, 1, 4, 2, 4, 4, 4, 4, 0, 2, 4, 4, 3, 4, 2, 3,\n",
       "        1, 0, 0, 2, 1, 1, 0, 4, 4, 1], dtype=int64),\n",
       " array([4, 4, 1, 1, 2, 2, 4, 1, 3, 0, 2, 0, 4, 0, 2, 2, 1, 0, 1, 0, 2, 1,\n",
       "        3, 1, 4, 0, 0, 0, 1, 3, 1, 0], dtype=int64),\n",
       " array([0, 1, 0, 4, 4, 1, 0, 3, 1, 2, 3, 0, 4, 3, 1, 2, 3, 1, 2, 2, 1, 4,\n",
       "        2, 3, 4, 0, 0, 0, 1, 2, 1, 1], dtype=int64),\n",
       " array([4, 2, 0, 3, 3, 3, 4, 1, 4, 4, 4, 3, 4, 2, 2, 4, 3, 1, 2, 2, 2, 2,\n",
       "        4, 3, 1, 4, 3, 2, 1, 4, 1, 3], dtype=int64),\n",
       " array([2, 0, 1, 0, 2, 4, 1, 1, 1, 3, 4, 3, 1, 2, 0, 1, 4, 3, 1, 2, 3, 4,\n",
       "        1, 2, 2, 4, 3, 2, 1, 2, 4, 3], dtype=int64),\n",
       " array([0, 3, 4, 1, 1, 4, 2, 3, 4, 3, 1, 0, 2, 4, 4, 3, 3, 3, 4, 4, 3, 2,\n",
       "        2, 2, 1, 2, 2, 4, 3, 3, 0, 2], dtype=int64),\n",
       " array([1, 3, 3, 0, 4, 2, 1, 2, 3, 1, 1, 4, 1, 1, 4, 3, 2, 0, 1, 1, 2, 4,\n",
       "        0, 2, 0, 0, 4, 0, 0, 0, 0, 2], dtype=int64),\n",
       " array([2, 1, 4, 4, 4, 1, 0, 4, 0, 1, 0, 2, 2, 1, 4, 1, 0, 0, 4, 2, 2, 2,\n",
       "        4, 3, 0, 1, 2, 2, 0, 1, 0, 4], dtype=int64),\n",
       " array([4, 1, 0, 1, 2, 3, 1, 0, 3, 1, 2, 3, 2, 4, 4, 1, 4, 4, 2, 4, 3, 1,\n",
       "        2, 4, 1, 0, 4, 1, 3, 0, 0, 4], dtype=int64),\n",
       " array([2, 0, 2, 4, 0, 3, 4, 2, 1, 0, 2, 2, 1, 1, 0, 3, 1, 3, 2, 1, 1, 4,\n",
       "        1, 0, 2, 1, 2, 4, 1, 2, 0, 4], dtype=int64),\n",
       " array([4, 2, 2, 0, 4, 4, 4, 4, 0, 0, 3, 0, 4, 1, 0, 0, 1, 3, 2, 4, 0, 2,\n",
       "        0, 4, 2, 2, 2, 3, 4, 3, 1, 0], dtype=int64),\n",
       " array([4, 2, 4, 2, 3, 4, 2, 0, 4, 0, 1, 0, 4, 3, 2, 1, 0, 2, 1, 2, 1, 4,\n",
       "        1, 1, 3, 2, 1, 1, 4, 1, 2, 4], dtype=int64),\n",
       " array([1, 4, 0, 4, 4, 0, 2, 4, 4, 3, 4, 2, 0, 4, 0, 3, 4, 2, 4, 0, 2, 3,\n",
       "        2, 3, 3, 4, 0, 3, 2, 4, 0, 0], dtype=int64),\n",
       " array([0, 3, 4, 1, 4, 4, 3, 4, 3, 2, 2, 0, 3, 3, 0, 2, 0, 2, 0, 3, 1, 0,\n",
       "        4, 0, 3, 3, 2, 2, 4, 2, 3, 2], dtype=int64),\n",
       " array([4, 4, 2, 2, 1, 4, 3, 2, 1, 4, 4, 0, 4, 4, 3, 4, 2, 0, 0, 4, 2, 1,\n",
       "        2, 0, 4, 0, 4, 1, 1, 0, 0, 1], dtype=int64),\n",
       " array([3, 4, 1, 1, 1, 4, 3, 4, 2, 2, 2, 1, 3, 3, 4, 1, 4, 4, 2, 4, 1, 3,\n",
       "        2, 1, 4, 1, 1, 0, 4, 2, 4, 2], dtype=int64),\n",
       " array([1, 2, 4, 2, 2, 1, 2, 2], dtype=int64)]"
      ]
     },
     "execution_count": 32,
     "metadata": {},
     "output_type": "execute_result"
    }
   ],
   "source": [
    "predictions "
   ]
  },
  {
   "cell_type": "code",
   "execution_count": 34,
   "metadata": {},
   "outputs": [],
   "source": [
    "# convert numeric label to string\n",
    "final_prediction_list = le.inverse_transform(np.concatenate(predictions))\n",
    "final_truelabel_list = le.inverse_transform(np.concatenate(true_labels))"
   ]
  },
  {
   "cell_type": "code",
   "execution_count": 35,
   "metadata": {},
   "outputs": [
    {
     "data": {
      "text/plain": [
       "array(['Extremely Negative', 'Extremely Negative', 'Extremely Negative',\n",
       "       ..., 'Extremely Positive', 'Negative', 'Negative'], dtype='<U18')"
      ]
     },
     "execution_count": 35,
     "metadata": {},
     "output_type": "execute_result"
    }
   ],
   "source": [
    "final_prediction_list\n"
   ]
  },
  {
   "cell_type": "code",
   "execution_count": 36,
   "metadata": {},
   "outputs": [
    {
     "name": "stdout",
     "output_type": "stream",
     "text": [
      "                    precision    recall  f1-score   support\n",
      "\n",
      "Extremely Negative       0.63      0.86      0.73      1096\n",
      "Extremely Positive       0.70      0.82      0.76      1325\n",
      "          Negative       0.66      0.58      0.62      1983\n",
      "           Neutral       0.82      0.72      0.77      1543\n",
      "          Positive       0.68      0.61      0.64      2285\n",
      "\n",
      "          accuracy                           0.69      8232\n",
      "         macro avg       0.70      0.72      0.70      8232\n",
      "      weighted avg       0.70      0.69      0.69      8232\n",
      "\n"
     ]
    }
   ],
   "source": [
    "from sklearn.metrics import confusion_matrix, classification_report\n",
    "cr = classification_report(final_truelabel_list, \n",
    "                           final_prediction_list, \n",
    "                           output_dict=False)\n",
    "print(cr)"
   ]
  }
 ],
 "metadata": {
  "kernelspec": {
   "display_name": "Python 3",
   "language": "python",
   "name": "python3"
  },
  "language_info": {
   "codemirror_mode": {
    "name": "ipython",
    "version": 3
   },
   "file_extension": ".py",
   "mimetype": "text/x-python",
   "name": "python",
   "nbconvert_exporter": "python",
   "pygments_lexer": "ipython3",
   "version": "3.11.7"
  }
 },
 "nbformat": 4,
 "nbformat_minor": 2
}
